{
  "nbformat": 4,
  "nbformat_minor": 0,
  "metadata": {
    "accelerator": "GPU",
    "colab": {
      "provenance": [],
      "toc_visible": true,
      "include_colab_link": true
    },
    "kernelspec": {
      "display_name": "Python 3",
      "name": "python3"
    },
    "language_info": {
      "name": "python"
    }
  },
  "cells": [
    {
      "cell_type": "markdown",
      "metadata": {
        "id": "view-in-github",
        "colab_type": "text"
      },
      "source": [
        "<a href=\"https://colab.research.google.com/github/rahayuisna23/data_analytics_portofolio/blob/main/Cluster_Analysis_of_East_Asian_Tourism_Destination_Reviews_on_TripAdvisor.ipynb\" target=\"_parent\"><img src=\"https://colab.research.google.com/assets/colab-badge.svg\" alt=\"Open In Colab\"/></a>"
      ]
    },
    {
      "cell_type": "markdown",
      "source": [
        "**Analisis Cluster Pada Data Ulasan Destinasi Pariwisata Asia Timur di Situs TripAdvisor**\n",
        "\n",
        "Tujuan dari analisis ini yaitu untuk mengelompokkan user berdasarkan kategori-kategori destinasi dengan menggunakan metode K-Means dan K-Medoids serta membandingkan hasil clustering dari kedua metode tersebut. Hasil analisis ini diharapkan dapat menambah wawasan dan pengetahuan terkait destinasi pariwisata yang akan dikunjungi serta dapat menjadi bahan pertimbangan bagi wisatawan maupun pengelola wisata.\n",
        "\n",
        "Data yang digunakan terdiri dari 980 observasi dan 11 variabel. Variabel-variabel yang digunakan adalah sebagai berikut:\n",
        "1.   User_ID    : User ID\n",
        "2.   Category_1 : Rata-rata feedback User pada Art Galleries\n",
        "1.   Category_2 : Rata-rata feedback User pada Dance Clubs\n",
        "2.   Category_3 : Rata-rata feedback User pada Juice Bars\n",
        "1.   Category_4 : Rata-rata feedback User pada Restaurants\n",
        "2.   Category_5 : Rata-rata feedback User pada Museums\n",
        "1.   Category_6 : Rata-rata feedback User pada Resortsm\n",
        "2.   Category_7 : Rata-rata feedback User pada Parks/Picnic Spots\n",
        "1.   Category_8 : Rata-rata feedback User pada Beaches\n",
        "2.   Category_9 : Rata-rata feedback User pada Theaters\n",
        "1.   Category_10 : Rata-rata feedback User pada Religious Institutions\n",
        "\n"
      ],
      "metadata": {
        "id": "oJDpRG0h--LD"
      }
    },
    {
      "cell_type": "code",
      "source": [
        "from scipy.stats import norm\n",
        "import matplotlib.pyplot as plt\n",
        "import numpy as np\n",
        "import pandas as pd\n",
        "import seaborn as sns\n",
        "%matplotlib inline\n",
        "\n",
        "sns.set(context='talk', palette='hls')\n",
        "sns.set_theme(style=\"whitegrid\", color_codes=True)\n",
        "sns.set(rc={'figure.figsize':(16,12)})"
      ],
      "metadata": {
        "id": "nYvW2RaOXKmB"
      },
      "execution_count": null,
      "outputs": []
    },
    {
      "cell_type": "markdown",
      "metadata": {
        "id": "qgCh9vh9SCGY"
      },
      "source": [
        "### Import Data"
      ]
    },
    {
      "cell_type": "code",
      "source": [
        "dataset=pd.read_csv('tripadvisor_review.csv')\n",
        "dataset.head()"
      ],
      "metadata": {
        "colab": {
          "base_uri": "https://localhost:8080/",
          "height": 268
        },
        "id": "ZVxhfusLYDM_",
        "outputId": "86fda9a8-13fc-4017-91dd-4be162908b6a"
      },
      "execution_count": null,
      "outputs": [
        {
          "output_type": "execute_result",
          "data": {
            "text/plain": [
              "   User ID  Category 1  Category 2  Category 3  Category 4  Category 5  \\\n",
              "0    10001        0.93         1.8        2.29        0.62        0.80   \n",
              "1    10002        1.02         2.2        2.66        0.64        1.42   \n",
              "2    10003        1.22         0.8        0.54        0.53        0.24   \n",
              "3    10004        0.45         1.8        0.29        0.57        0.46   \n",
              "4    10005        0.51         1.2        1.18        0.57        1.54   \n",
              "\n",
              "   Category 6  Category 7  Category 8  Category 9  Category 10  \n",
              "0        2.42        3.19        2.79        1.82         2.42  \n",
              "1        3.18        3.21        2.63        1.86         2.32  \n",
              "2        1.54        3.18        2.80        1.31         2.50  \n",
              "3        1.52        3.18        2.96        1.57         2.86  \n",
              "4        2.02        3.18        2.78        1.18         2.54  "
            ],
            "text/html": [
              "\n",
              "  <div id=\"df-834c9dea-1bbc-45c6-a55b-60a147ba929c\">\n",
              "    <div class=\"colab-df-container\">\n",
              "      <div>\n",
              "<style scoped>\n",
              "    .dataframe tbody tr th:only-of-type {\n",
              "        vertical-align: middle;\n",
              "    }\n",
              "\n",
              "    .dataframe tbody tr th {\n",
              "        vertical-align: top;\n",
              "    }\n",
              "\n",
              "    .dataframe thead th {\n",
              "        text-align: right;\n",
              "    }\n",
              "</style>\n",
              "<table border=\"1\" class=\"dataframe\">\n",
              "  <thead>\n",
              "    <tr style=\"text-align: right;\">\n",
              "      <th></th>\n",
              "      <th>User ID</th>\n",
              "      <th>Category 1</th>\n",
              "      <th>Category 2</th>\n",
              "      <th>Category 3</th>\n",
              "      <th>Category 4</th>\n",
              "      <th>Category 5</th>\n",
              "      <th>Category 6</th>\n",
              "      <th>Category 7</th>\n",
              "      <th>Category 8</th>\n",
              "      <th>Category 9</th>\n",
              "      <th>Category 10</th>\n",
              "    </tr>\n",
              "  </thead>\n",
              "  <tbody>\n",
              "    <tr>\n",
              "      <th>0</th>\n",
              "      <td>10001</td>\n",
              "      <td>0.93</td>\n",
              "      <td>1.8</td>\n",
              "      <td>2.29</td>\n",
              "      <td>0.62</td>\n",
              "      <td>0.80</td>\n",
              "      <td>2.42</td>\n",
              "      <td>3.19</td>\n",
              "      <td>2.79</td>\n",
              "      <td>1.82</td>\n",
              "      <td>2.42</td>\n",
              "    </tr>\n",
              "    <tr>\n",
              "      <th>1</th>\n",
              "      <td>10002</td>\n",
              "      <td>1.02</td>\n",
              "      <td>2.2</td>\n",
              "      <td>2.66</td>\n",
              "      <td>0.64</td>\n",
              "      <td>1.42</td>\n",
              "      <td>3.18</td>\n",
              "      <td>3.21</td>\n",
              "      <td>2.63</td>\n",
              "      <td>1.86</td>\n",
              "      <td>2.32</td>\n",
              "    </tr>\n",
              "    <tr>\n",
              "      <th>2</th>\n",
              "      <td>10003</td>\n",
              "      <td>1.22</td>\n",
              "      <td>0.8</td>\n",
              "      <td>0.54</td>\n",
              "      <td>0.53</td>\n",
              "      <td>0.24</td>\n",
              "      <td>1.54</td>\n",
              "      <td>3.18</td>\n",
              "      <td>2.80</td>\n",
              "      <td>1.31</td>\n",
              "      <td>2.50</td>\n",
              "    </tr>\n",
              "    <tr>\n",
              "      <th>3</th>\n",
              "      <td>10004</td>\n",
              "      <td>0.45</td>\n",
              "      <td>1.8</td>\n",
              "      <td>0.29</td>\n",
              "      <td>0.57</td>\n",
              "      <td>0.46</td>\n",
              "      <td>1.52</td>\n",
              "      <td>3.18</td>\n",
              "      <td>2.96</td>\n",
              "      <td>1.57</td>\n",
              "      <td>2.86</td>\n",
              "    </tr>\n",
              "    <tr>\n",
              "      <th>4</th>\n",
              "      <td>10005</td>\n",
              "      <td>0.51</td>\n",
              "      <td>1.2</td>\n",
              "      <td>1.18</td>\n",
              "      <td>0.57</td>\n",
              "      <td>1.54</td>\n",
              "      <td>2.02</td>\n",
              "      <td>3.18</td>\n",
              "      <td>2.78</td>\n",
              "      <td>1.18</td>\n",
              "      <td>2.54</td>\n",
              "    </tr>\n",
              "  </tbody>\n",
              "</table>\n",
              "</div>\n",
              "      <button class=\"colab-df-convert\" onclick=\"convertToInteractive('df-834c9dea-1bbc-45c6-a55b-60a147ba929c')\"\n",
              "              title=\"Convert this dataframe to an interactive table.\"\n",
              "              style=\"display:none;\">\n",
              "        \n",
              "  <svg xmlns=\"http://www.w3.org/2000/svg\" height=\"24px\"viewBox=\"0 0 24 24\"\n",
              "       width=\"24px\">\n",
              "    <path d=\"M0 0h24v24H0V0z\" fill=\"none\"/>\n",
              "    <path d=\"M18.56 5.44l.94 2.06.94-2.06 2.06-.94-2.06-.94-.94-2.06-.94 2.06-2.06.94zm-11 1L8.5 8.5l.94-2.06 2.06-.94-2.06-.94L8.5 2.5l-.94 2.06-2.06.94zm10 10l.94 2.06.94-2.06 2.06-.94-2.06-.94-.94-2.06-.94 2.06-2.06.94z\"/><path d=\"M17.41 7.96l-1.37-1.37c-.4-.4-.92-.59-1.43-.59-.52 0-1.04.2-1.43.59L10.3 9.45l-7.72 7.72c-.78.78-.78 2.05 0 2.83L4 21.41c.39.39.9.59 1.41.59.51 0 1.02-.2 1.41-.59l7.78-7.78 2.81-2.81c.8-.78.8-2.07 0-2.86zM5.41 20L4 18.59l7.72-7.72 1.47 1.35L5.41 20z\"/>\n",
              "  </svg>\n",
              "      </button>\n",
              "      \n",
              "  <style>\n",
              "    .colab-df-container {\n",
              "      display:flex;\n",
              "      flex-wrap:wrap;\n",
              "      gap: 12px;\n",
              "    }\n",
              "\n",
              "    .colab-df-convert {\n",
              "      background-color: #E8F0FE;\n",
              "      border: none;\n",
              "      border-radius: 50%;\n",
              "      cursor: pointer;\n",
              "      display: none;\n",
              "      fill: #1967D2;\n",
              "      height: 32px;\n",
              "      padding: 0 0 0 0;\n",
              "      width: 32px;\n",
              "    }\n",
              "\n",
              "    .colab-df-convert:hover {\n",
              "      background-color: #E2EBFA;\n",
              "      box-shadow: 0px 1px 2px rgba(60, 64, 67, 0.3), 0px 1px 3px 1px rgba(60, 64, 67, 0.15);\n",
              "      fill: #174EA6;\n",
              "    }\n",
              "\n",
              "    [theme=dark] .colab-df-convert {\n",
              "      background-color: #3B4455;\n",
              "      fill: #D2E3FC;\n",
              "    }\n",
              "\n",
              "    [theme=dark] .colab-df-convert:hover {\n",
              "      background-color: #434B5C;\n",
              "      box-shadow: 0px 1px 3px 1px rgba(0, 0, 0, 0.15);\n",
              "      filter: drop-shadow(0px 1px 2px rgba(0, 0, 0, 0.3));\n",
              "      fill: #FFFFFF;\n",
              "    }\n",
              "  </style>\n",
              "\n",
              "      <script>\n",
              "        const buttonEl =\n",
              "          document.querySelector('#df-834c9dea-1bbc-45c6-a55b-60a147ba929c button.colab-df-convert');\n",
              "        buttonEl.style.display =\n",
              "          google.colab.kernel.accessAllowed ? 'block' : 'none';\n",
              "\n",
              "        async function convertToInteractive(key) {\n",
              "          const element = document.querySelector('#df-834c9dea-1bbc-45c6-a55b-60a147ba929c');\n",
              "          const dataTable =\n",
              "            await google.colab.kernel.invokeFunction('convertToInteractive',\n",
              "                                                     [key], {});\n",
              "          if (!dataTable) return;\n",
              "\n",
              "          const docLinkHtml = 'Like what you see? Visit the ' +\n",
              "            '<a target=\"_blank\" href=https://colab.research.google.com/notebooks/data_table.ipynb>data table notebook</a>'\n",
              "            + ' to learn more about interactive tables.';\n",
              "          element.innerHTML = '';\n",
              "          dataTable['output_type'] = 'display_data';\n",
              "          await google.colab.output.renderOutput(dataTable, element);\n",
              "          const docLink = document.createElement('div');\n",
              "          docLink.innerHTML = docLinkHtml;\n",
              "          element.appendChild(docLink);\n",
              "        }\n",
              "      </script>\n",
              "    </div>\n",
              "  </div>\n",
              "  "
            ]
          },
          "metadata": {},
          "execution_count": 3
        }
      ]
    },
    {
      "cell_type": "code",
      "source": [
        "dataset.rename(columns={'Category 1':'Art Galleries','Category 2':'Dance Clubs','Category 3':'Juice Bars','Category 4':'Restaurants','Category 5':'Museums','Category 6':'Resorts','Category 7':'Parks/picnic spots','Category 8':'Beaches','Category 9':'Theaters','Category 10':'Religious institutions',},inplace=True)"
      ],
      "metadata": {
        "id": "jefc2qX6twPM"
      },
      "execution_count": null,
      "outputs": []
    },
    {
      "cell_type": "code",
      "source": [
        "dataset.head()"
      ],
      "metadata": {
        "colab": {
          "base_uri": "https://localhost:8080/",
          "height": 268
        },
        "id": "zQlgBrJXuYg_",
        "outputId": "c9822c69-53df-47db-dcfe-1f24839d60d9"
      },
      "execution_count": null,
      "outputs": [
        {
          "output_type": "execute_result",
          "data": {
            "text/plain": [
              "   User ID  Art Galleries  Dance Clubs  Juice Bars  Restaurants  Museums  \\\n",
              "0    10001           0.93          1.8        2.29         0.62     0.80   \n",
              "1    10002           1.02          2.2        2.66         0.64     1.42   \n",
              "2    10003           1.22          0.8        0.54         0.53     0.24   \n",
              "3    10004           0.45          1.8        0.29         0.57     0.46   \n",
              "4    10005           0.51          1.2        1.18         0.57     1.54   \n",
              "\n",
              "   Resorts  Parks/picnic spots  Beaches  Theaters  Religious institutions  \n",
              "0     2.42                3.19     2.79      1.82                    2.42  \n",
              "1     3.18                3.21     2.63      1.86                    2.32  \n",
              "2     1.54                3.18     2.80      1.31                    2.50  \n",
              "3     1.52                3.18     2.96      1.57                    2.86  \n",
              "4     2.02                3.18     2.78      1.18                    2.54  "
            ],
            "text/html": [
              "\n",
              "  <div id=\"df-5da37472-976d-4f0c-829f-a393c77b9b8d\">\n",
              "    <div class=\"colab-df-container\">\n",
              "      <div>\n",
              "<style scoped>\n",
              "    .dataframe tbody tr th:only-of-type {\n",
              "        vertical-align: middle;\n",
              "    }\n",
              "\n",
              "    .dataframe tbody tr th {\n",
              "        vertical-align: top;\n",
              "    }\n",
              "\n",
              "    .dataframe thead th {\n",
              "        text-align: right;\n",
              "    }\n",
              "</style>\n",
              "<table border=\"1\" class=\"dataframe\">\n",
              "  <thead>\n",
              "    <tr style=\"text-align: right;\">\n",
              "      <th></th>\n",
              "      <th>User ID</th>\n",
              "      <th>Art Galleries</th>\n",
              "      <th>Dance Clubs</th>\n",
              "      <th>Juice Bars</th>\n",
              "      <th>Restaurants</th>\n",
              "      <th>Museums</th>\n",
              "      <th>Resorts</th>\n",
              "      <th>Parks/picnic spots</th>\n",
              "      <th>Beaches</th>\n",
              "      <th>Theaters</th>\n",
              "      <th>Religious institutions</th>\n",
              "    </tr>\n",
              "  </thead>\n",
              "  <tbody>\n",
              "    <tr>\n",
              "      <th>0</th>\n",
              "      <td>10001</td>\n",
              "      <td>0.93</td>\n",
              "      <td>1.8</td>\n",
              "      <td>2.29</td>\n",
              "      <td>0.62</td>\n",
              "      <td>0.80</td>\n",
              "      <td>2.42</td>\n",
              "      <td>3.19</td>\n",
              "      <td>2.79</td>\n",
              "      <td>1.82</td>\n",
              "      <td>2.42</td>\n",
              "    </tr>\n",
              "    <tr>\n",
              "      <th>1</th>\n",
              "      <td>10002</td>\n",
              "      <td>1.02</td>\n",
              "      <td>2.2</td>\n",
              "      <td>2.66</td>\n",
              "      <td>0.64</td>\n",
              "      <td>1.42</td>\n",
              "      <td>3.18</td>\n",
              "      <td>3.21</td>\n",
              "      <td>2.63</td>\n",
              "      <td>1.86</td>\n",
              "      <td>2.32</td>\n",
              "    </tr>\n",
              "    <tr>\n",
              "      <th>2</th>\n",
              "      <td>10003</td>\n",
              "      <td>1.22</td>\n",
              "      <td>0.8</td>\n",
              "      <td>0.54</td>\n",
              "      <td>0.53</td>\n",
              "      <td>0.24</td>\n",
              "      <td>1.54</td>\n",
              "      <td>3.18</td>\n",
              "      <td>2.80</td>\n",
              "      <td>1.31</td>\n",
              "      <td>2.50</td>\n",
              "    </tr>\n",
              "    <tr>\n",
              "      <th>3</th>\n",
              "      <td>10004</td>\n",
              "      <td>0.45</td>\n",
              "      <td>1.8</td>\n",
              "      <td>0.29</td>\n",
              "      <td>0.57</td>\n",
              "      <td>0.46</td>\n",
              "      <td>1.52</td>\n",
              "      <td>3.18</td>\n",
              "      <td>2.96</td>\n",
              "      <td>1.57</td>\n",
              "      <td>2.86</td>\n",
              "    </tr>\n",
              "    <tr>\n",
              "      <th>4</th>\n",
              "      <td>10005</td>\n",
              "      <td>0.51</td>\n",
              "      <td>1.2</td>\n",
              "      <td>1.18</td>\n",
              "      <td>0.57</td>\n",
              "      <td>1.54</td>\n",
              "      <td>2.02</td>\n",
              "      <td>3.18</td>\n",
              "      <td>2.78</td>\n",
              "      <td>1.18</td>\n",
              "      <td>2.54</td>\n",
              "    </tr>\n",
              "  </tbody>\n",
              "</table>\n",
              "</div>\n",
              "      <button class=\"colab-df-convert\" onclick=\"convertToInteractive('df-5da37472-976d-4f0c-829f-a393c77b9b8d')\"\n",
              "              title=\"Convert this dataframe to an interactive table.\"\n",
              "              style=\"display:none;\">\n",
              "        \n",
              "  <svg xmlns=\"http://www.w3.org/2000/svg\" height=\"24px\"viewBox=\"0 0 24 24\"\n",
              "       width=\"24px\">\n",
              "    <path d=\"M0 0h24v24H0V0z\" fill=\"none\"/>\n",
              "    <path d=\"M18.56 5.44l.94 2.06.94-2.06 2.06-.94-2.06-.94-.94-2.06-.94 2.06-2.06.94zm-11 1L8.5 8.5l.94-2.06 2.06-.94-2.06-.94L8.5 2.5l-.94 2.06-2.06.94zm10 10l.94 2.06.94-2.06 2.06-.94-2.06-.94-.94-2.06-.94 2.06-2.06.94z\"/><path d=\"M17.41 7.96l-1.37-1.37c-.4-.4-.92-.59-1.43-.59-.52 0-1.04.2-1.43.59L10.3 9.45l-7.72 7.72c-.78.78-.78 2.05 0 2.83L4 21.41c.39.39.9.59 1.41.59.51 0 1.02-.2 1.41-.59l7.78-7.78 2.81-2.81c.8-.78.8-2.07 0-2.86zM5.41 20L4 18.59l7.72-7.72 1.47 1.35L5.41 20z\"/>\n",
              "  </svg>\n",
              "      </button>\n",
              "      \n",
              "  <style>\n",
              "    .colab-df-container {\n",
              "      display:flex;\n",
              "      flex-wrap:wrap;\n",
              "      gap: 12px;\n",
              "    }\n",
              "\n",
              "    .colab-df-convert {\n",
              "      background-color: #E8F0FE;\n",
              "      border: none;\n",
              "      border-radius: 50%;\n",
              "      cursor: pointer;\n",
              "      display: none;\n",
              "      fill: #1967D2;\n",
              "      height: 32px;\n",
              "      padding: 0 0 0 0;\n",
              "      width: 32px;\n",
              "    }\n",
              "\n",
              "    .colab-df-convert:hover {\n",
              "      background-color: #E2EBFA;\n",
              "      box-shadow: 0px 1px 2px rgba(60, 64, 67, 0.3), 0px 1px 3px 1px rgba(60, 64, 67, 0.15);\n",
              "      fill: #174EA6;\n",
              "    }\n",
              "\n",
              "    [theme=dark] .colab-df-convert {\n",
              "      background-color: #3B4455;\n",
              "      fill: #D2E3FC;\n",
              "    }\n",
              "\n",
              "    [theme=dark] .colab-df-convert:hover {\n",
              "      background-color: #434B5C;\n",
              "      box-shadow: 0px 1px 3px 1px rgba(0, 0, 0, 0.15);\n",
              "      filter: drop-shadow(0px 1px 2px rgba(0, 0, 0, 0.3));\n",
              "      fill: #FFFFFF;\n",
              "    }\n",
              "  </style>\n",
              "\n",
              "      <script>\n",
              "        const buttonEl =\n",
              "          document.querySelector('#df-5da37472-976d-4f0c-829f-a393c77b9b8d button.colab-df-convert');\n",
              "        buttonEl.style.display =\n",
              "          google.colab.kernel.accessAllowed ? 'block' : 'none';\n",
              "\n",
              "        async function convertToInteractive(key) {\n",
              "          const element = document.querySelector('#df-5da37472-976d-4f0c-829f-a393c77b9b8d');\n",
              "          const dataTable =\n",
              "            await google.colab.kernel.invokeFunction('convertToInteractive',\n",
              "                                                     [key], {});\n",
              "          if (!dataTable) return;\n",
              "\n",
              "          const docLinkHtml = 'Like what you see? Visit the ' +\n",
              "            '<a target=\"_blank\" href=https://colab.research.google.com/notebooks/data_table.ipynb>data table notebook</a>'\n",
              "            + ' to learn more about interactive tables.';\n",
              "          element.innerHTML = '';\n",
              "          dataTable['output_type'] = 'display_data';\n",
              "          await google.colab.output.renderOutput(dataTable, element);\n",
              "          const docLink = document.createElement('div');\n",
              "          docLink.innerHTML = docLinkHtml;\n",
              "          element.appendChild(docLink);\n",
              "        }\n",
              "      </script>\n",
              "    </div>\n",
              "  </div>\n",
              "  "
            ]
          },
          "metadata": {},
          "execution_count": 5
        }
      ]
    },
    {
      "cell_type": "markdown",
      "source": [
        "### Drop Duplicates"
      ],
      "metadata": {
        "id": "1qF1UTF6kXOW"
      }
    },
    {
      "cell_type": "code",
      "source": [
        "dataset.duplicated()"
      ],
      "metadata": {
        "colab": {
          "base_uri": "https://localhost:8080/"
        },
        "id": "1rz4w3wcWrJ2",
        "outputId": "001437c9-15e9-4675-d6e3-08036199d2da"
      },
      "execution_count": null,
      "outputs": [
        {
          "output_type": "execute_result",
          "data": {
            "text/plain": [
              "0      False\n",
              "1      False\n",
              "2      False\n",
              "3      False\n",
              "4      False\n",
              "       ...  \n",
              "975    False\n",
              "976    False\n",
              "977    False\n",
              "978    False\n",
              "979    False\n",
              "Length: 980, dtype: bool"
            ]
          },
          "metadata": {},
          "execution_count": 6
        }
      ]
    },
    {
      "cell_type": "code",
      "metadata": {
        "id": "Yz6U31y8Uoem"
      },
      "source": [
        "dataset=dataset.drop_duplicates()"
      ],
      "execution_count": null,
      "outputs": []
    },
    {
      "cell_type": "code",
      "source": [
        "dataset"
      ],
      "metadata": {
        "colab": {
          "base_uri": "https://localhost:8080/",
          "height": 485
        },
        "id": "epHIPb6lXGMO",
        "outputId": "d0630db8-af9d-4bac-8f19-f94d027c7bf4"
      },
      "execution_count": null,
      "outputs": [
        {
          "output_type": "execute_result",
          "data": {
            "text/plain": [
              "     User ID  Art Galleries  Dance Clubs  Juice Bars  Restaurants  Museums  \\\n",
              "0      10001           0.93         1.80        2.29         0.62     0.80   \n",
              "1      10002           1.02         2.20        2.66         0.64     1.42   \n",
              "2      10003           1.22         0.80        0.54         0.53     0.24   \n",
              "3      10004           0.45         1.80        0.29         0.57     0.46   \n",
              "4      10005           0.51         1.20        1.18         0.57     1.54   \n",
              "..       ...            ...          ...         ...          ...      ...   \n",
              "975    10976           0.74         1.12        0.30         0.53     0.88   \n",
              "976    10977           1.25         0.92        1.12         0.38     0.78   \n",
              "977    10978           0.61         1.32        0.67         0.43     1.30   \n",
              "978    10979           0.93         0.20        0.13         0.43     0.30   \n",
              "979    10980           0.93         0.56        1.13         0.51     1.34   \n",
              "\n",
              "     Resorts  Parks/picnic spots  Beaches  Theaters  Religious institutions  \n",
              "0       2.42                3.19     2.79      1.82                    2.42  \n",
              "1       3.18                3.21     2.63      1.86                    2.32  \n",
              "2       1.54                3.18     2.80      1.31                    2.50  \n",
              "3       1.52                3.18     2.96      1.57                    2.86  \n",
              "4       2.02                3.18     2.78      1.18                    2.54  \n",
              "..       ...                 ...      ...       ...                     ...  \n",
              "975     1.38                3.17     2.78      0.99                    3.20  \n",
              "976     1.68                3.18     2.79      1.34                    2.80  \n",
              "977     1.78                3.17     2.81      1.34                    3.02  \n",
              "978     0.40                3.18     2.98      1.12                    2.46  \n",
              "979     2.36                3.18     2.87      1.34                    2.40  \n",
              "\n",
              "[980 rows x 11 columns]"
            ],
            "text/html": [
              "\n",
              "  <div id=\"df-129e00c2-8691-44b0-a8f5-40d69dc68874\">\n",
              "    <div class=\"colab-df-container\">\n",
              "      <div>\n",
              "<style scoped>\n",
              "    .dataframe tbody tr th:only-of-type {\n",
              "        vertical-align: middle;\n",
              "    }\n",
              "\n",
              "    .dataframe tbody tr th {\n",
              "        vertical-align: top;\n",
              "    }\n",
              "\n",
              "    .dataframe thead th {\n",
              "        text-align: right;\n",
              "    }\n",
              "</style>\n",
              "<table border=\"1\" class=\"dataframe\">\n",
              "  <thead>\n",
              "    <tr style=\"text-align: right;\">\n",
              "      <th></th>\n",
              "      <th>User ID</th>\n",
              "      <th>Art Galleries</th>\n",
              "      <th>Dance Clubs</th>\n",
              "      <th>Juice Bars</th>\n",
              "      <th>Restaurants</th>\n",
              "      <th>Museums</th>\n",
              "      <th>Resorts</th>\n",
              "      <th>Parks/picnic spots</th>\n",
              "      <th>Beaches</th>\n",
              "      <th>Theaters</th>\n",
              "      <th>Religious institutions</th>\n",
              "    </tr>\n",
              "  </thead>\n",
              "  <tbody>\n",
              "    <tr>\n",
              "      <th>0</th>\n",
              "      <td>10001</td>\n",
              "      <td>0.93</td>\n",
              "      <td>1.80</td>\n",
              "      <td>2.29</td>\n",
              "      <td>0.62</td>\n",
              "      <td>0.80</td>\n",
              "      <td>2.42</td>\n",
              "      <td>3.19</td>\n",
              "      <td>2.79</td>\n",
              "      <td>1.82</td>\n",
              "      <td>2.42</td>\n",
              "    </tr>\n",
              "    <tr>\n",
              "      <th>1</th>\n",
              "      <td>10002</td>\n",
              "      <td>1.02</td>\n",
              "      <td>2.20</td>\n",
              "      <td>2.66</td>\n",
              "      <td>0.64</td>\n",
              "      <td>1.42</td>\n",
              "      <td>3.18</td>\n",
              "      <td>3.21</td>\n",
              "      <td>2.63</td>\n",
              "      <td>1.86</td>\n",
              "      <td>2.32</td>\n",
              "    </tr>\n",
              "    <tr>\n",
              "      <th>2</th>\n",
              "      <td>10003</td>\n",
              "      <td>1.22</td>\n",
              "      <td>0.80</td>\n",
              "      <td>0.54</td>\n",
              "      <td>0.53</td>\n",
              "      <td>0.24</td>\n",
              "      <td>1.54</td>\n",
              "      <td>3.18</td>\n",
              "      <td>2.80</td>\n",
              "      <td>1.31</td>\n",
              "      <td>2.50</td>\n",
              "    </tr>\n",
              "    <tr>\n",
              "      <th>3</th>\n",
              "      <td>10004</td>\n",
              "      <td>0.45</td>\n",
              "      <td>1.80</td>\n",
              "      <td>0.29</td>\n",
              "      <td>0.57</td>\n",
              "      <td>0.46</td>\n",
              "      <td>1.52</td>\n",
              "      <td>3.18</td>\n",
              "      <td>2.96</td>\n",
              "      <td>1.57</td>\n",
              "      <td>2.86</td>\n",
              "    </tr>\n",
              "    <tr>\n",
              "      <th>4</th>\n",
              "      <td>10005</td>\n",
              "      <td>0.51</td>\n",
              "      <td>1.20</td>\n",
              "      <td>1.18</td>\n",
              "      <td>0.57</td>\n",
              "      <td>1.54</td>\n",
              "      <td>2.02</td>\n",
              "      <td>3.18</td>\n",
              "      <td>2.78</td>\n",
              "      <td>1.18</td>\n",
              "      <td>2.54</td>\n",
              "    </tr>\n",
              "    <tr>\n",
              "      <th>...</th>\n",
              "      <td>...</td>\n",
              "      <td>...</td>\n",
              "      <td>...</td>\n",
              "      <td>...</td>\n",
              "      <td>...</td>\n",
              "      <td>...</td>\n",
              "      <td>...</td>\n",
              "      <td>...</td>\n",
              "      <td>...</td>\n",
              "      <td>...</td>\n",
              "      <td>...</td>\n",
              "    </tr>\n",
              "    <tr>\n",
              "      <th>975</th>\n",
              "      <td>10976</td>\n",
              "      <td>0.74</td>\n",
              "      <td>1.12</td>\n",
              "      <td>0.30</td>\n",
              "      <td>0.53</td>\n",
              "      <td>0.88</td>\n",
              "      <td>1.38</td>\n",
              "      <td>3.17</td>\n",
              "      <td>2.78</td>\n",
              "      <td>0.99</td>\n",
              "      <td>3.20</td>\n",
              "    </tr>\n",
              "    <tr>\n",
              "      <th>976</th>\n",
              "      <td>10977</td>\n",
              "      <td>1.25</td>\n",
              "      <td>0.92</td>\n",
              "      <td>1.12</td>\n",
              "      <td>0.38</td>\n",
              "      <td>0.78</td>\n",
              "      <td>1.68</td>\n",
              "      <td>3.18</td>\n",
              "      <td>2.79</td>\n",
              "      <td>1.34</td>\n",
              "      <td>2.80</td>\n",
              "    </tr>\n",
              "    <tr>\n",
              "      <th>977</th>\n",
              "      <td>10978</td>\n",
              "      <td>0.61</td>\n",
              "      <td>1.32</td>\n",
              "      <td>0.67</td>\n",
              "      <td>0.43</td>\n",
              "      <td>1.30</td>\n",
              "      <td>1.78</td>\n",
              "      <td>3.17</td>\n",
              "      <td>2.81</td>\n",
              "      <td>1.34</td>\n",
              "      <td>3.02</td>\n",
              "    </tr>\n",
              "    <tr>\n",
              "      <th>978</th>\n",
              "      <td>10979</td>\n",
              "      <td>0.93</td>\n",
              "      <td>0.20</td>\n",
              "      <td>0.13</td>\n",
              "      <td>0.43</td>\n",
              "      <td>0.30</td>\n",
              "      <td>0.40</td>\n",
              "      <td>3.18</td>\n",
              "      <td>2.98</td>\n",
              "      <td>1.12</td>\n",
              "      <td>2.46</td>\n",
              "    </tr>\n",
              "    <tr>\n",
              "      <th>979</th>\n",
              "      <td>10980</td>\n",
              "      <td>0.93</td>\n",
              "      <td>0.56</td>\n",
              "      <td>1.13</td>\n",
              "      <td>0.51</td>\n",
              "      <td>1.34</td>\n",
              "      <td>2.36</td>\n",
              "      <td>3.18</td>\n",
              "      <td>2.87</td>\n",
              "      <td>1.34</td>\n",
              "      <td>2.40</td>\n",
              "    </tr>\n",
              "  </tbody>\n",
              "</table>\n",
              "<p>980 rows × 11 columns</p>\n",
              "</div>\n",
              "      <button class=\"colab-df-convert\" onclick=\"convertToInteractive('df-129e00c2-8691-44b0-a8f5-40d69dc68874')\"\n",
              "              title=\"Convert this dataframe to an interactive table.\"\n",
              "              style=\"display:none;\">\n",
              "        \n",
              "  <svg xmlns=\"http://www.w3.org/2000/svg\" height=\"24px\"viewBox=\"0 0 24 24\"\n",
              "       width=\"24px\">\n",
              "    <path d=\"M0 0h24v24H0V0z\" fill=\"none\"/>\n",
              "    <path d=\"M18.56 5.44l.94 2.06.94-2.06 2.06-.94-2.06-.94-.94-2.06-.94 2.06-2.06.94zm-11 1L8.5 8.5l.94-2.06 2.06-.94-2.06-.94L8.5 2.5l-.94 2.06-2.06.94zm10 10l.94 2.06.94-2.06 2.06-.94-2.06-.94-.94-2.06-.94 2.06-2.06.94z\"/><path d=\"M17.41 7.96l-1.37-1.37c-.4-.4-.92-.59-1.43-.59-.52 0-1.04.2-1.43.59L10.3 9.45l-7.72 7.72c-.78.78-.78 2.05 0 2.83L4 21.41c.39.39.9.59 1.41.59.51 0 1.02-.2 1.41-.59l7.78-7.78 2.81-2.81c.8-.78.8-2.07 0-2.86zM5.41 20L4 18.59l7.72-7.72 1.47 1.35L5.41 20z\"/>\n",
              "  </svg>\n",
              "      </button>\n",
              "      \n",
              "  <style>\n",
              "    .colab-df-container {\n",
              "      display:flex;\n",
              "      flex-wrap:wrap;\n",
              "      gap: 12px;\n",
              "    }\n",
              "\n",
              "    .colab-df-convert {\n",
              "      background-color: #E8F0FE;\n",
              "      border: none;\n",
              "      border-radius: 50%;\n",
              "      cursor: pointer;\n",
              "      display: none;\n",
              "      fill: #1967D2;\n",
              "      height: 32px;\n",
              "      padding: 0 0 0 0;\n",
              "      width: 32px;\n",
              "    }\n",
              "\n",
              "    .colab-df-convert:hover {\n",
              "      background-color: #E2EBFA;\n",
              "      box-shadow: 0px 1px 2px rgba(60, 64, 67, 0.3), 0px 1px 3px 1px rgba(60, 64, 67, 0.15);\n",
              "      fill: #174EA6;\n",
              "    }\n",
              "\n",
              "    [theme=dark] .colab-df-convert {\n",
              "      background-color: #3B4455;\n",
              "      fill: #D2E3FC;\n",
              "    }\n",
              "\n",
              "    [theme=dark] .colab-df-convert:hover {\n",
              "      background-color: #434B5C;\n",
              "      box-shadow: 0px 1px 3px 1px rgba(0, 0, 0, 0.15);\n",
              "      filter: drop-shadow(0px 1px 2px rgba(0, 0, 0, 0.3));\n",
              "      fill: #FFFFFF;\n",
              "    }\n",
              "  </style>\n",
              "\n",
              "      <script>\n",
              "        const buttonEl =\n",
              "          document.querySelector('#df-129e00c2-8691-44b0-a8f5-40d69dc68874 button.colab-df-convert');\n",
              "        buttonEl.style.display =\n",
              "          google.colab.kernel.accessAllowed ? 'block' : 'none';\n",
              "\n",
              "        async function convertToInteractive(key) {\n",
              "          const element = document.querySelector('#df-129e00c2-8691-44b0-a8f5-40d69dc68874');\n",
              "          const dataTable =\n",
              "            await google.colab.kernel.invokeFunction('convertToInteractive',\n",
              "                                                     [key], {});\n",
              "          if (!dataTable) return;\n",
              "\n",
              "          const docLinkHtml = 'Like what you see? Visit the ' +\n",
              "            '<a target=\"_blank\" href=https://colab.research.google.com/notebooks/data_table.ipynb>data table notebook</a>'\n",
              "            + ' to learn more about interactive tables.';\n",
              "          element.innerHTML = '';\n",
              "          dataTable['output_type'] = 'display_data';\n",
              "          await google.colab.output.renderOutput(dataTable, element);\n",
              "          const docLink = document.createElement('div');\n",
              "          docLink.innerHTML = docLinkHtml;\n",
              "          element.appendChild(docLink);\n",
              "        }\n",
              "      </script>\n",
              "    </div>\n",
              "  </div>\n",
              "  "
            ]
          },
          "metadata": {},
          "execution_count": 8
        }
      ]
    },
    {
      "cell_type": "markdown",
      "source": [
        "Berdasarkan output yang terlihat bahwa pada pemanggilan data pertama keterangan jumlah data yaitu sebanyak 980 data, pada pemanggilan data kedua setelah dilakukan penghapusan data duplikat agar menjadi data yang unik keterangan jumlah data yaitu sebesar 980. Karena pemanggilan data\n",
        "sebelum dan setelah penghapusan data sama yaitu 980 maka data yang dimiliki tidak terduplikat atau data yang dimiliki sudah unik."
      ],
      "metadata": {
        "id": "dgEX-6Q-CYnA"
      }
    },
    {
      "cell_type": "markdown",
      "source": [
        "### Cek Missing Value"
      ],
      "metadata": {
        "id": "2kYJ_un-jVa2"
      }
    },
    {
      "cell_type": "code",
      "source": [
        "dataset.isna().sum()"
      ],
      "metadata": {
        "colab": {
          "base_uri": "https://localhost:8080/"
        },
        "id": "Hiy6R_V9jhx3",
        "outputId": "0cecbc45-fe8e-4d96-e358-d009cd95d65b"
      },
      "execution_count": null,
      "outputs": [
        {
          "output_type": "execute_result",
          "data": {
            "text/plain": [
              "User ID                   0\n",
              "Art Galleries             0\n",
              "Dance Clubs               0\n",
              "Juice Bars                0\n",
              "Restaurants               0\n",
              "Museums                   0\n",
              "Resorts                   0\n",
              "Parks/picnic spots        0\n",
              "Beaches                   0\n",
              "Theaters                  0\n",
              "Religious institutions    0\n",
              "dtype: int64"
            ]
          },
          "metadata": {},
          "execution_count": 9
        }
      ]
    },
    {
      "cell_type": "markdown",
      "source": [
        "Pada pengujian Missing Value secara keseluruhan didapatkan output pada masing masing kategori yaitu 0 yang berarti bahwa tidak ditemukan adanya masing value pada masing-masing kategori."
      ],
      "metadata": {
        "id": "SIjm0H48Cl3R"
      }
    },
    {
      "cell_type": "markdown",
      "source": [
        "### Cek Outlier"
      ],
      "metadata": {
        "id": "z_uA7b4xpNPz"
      }
    },
    {
      "cell_type": "code",
      "source": [
        "sns.boxplot(data=dataset[['Art Galleries','Dance Clubs','Juice Bars','Restaurants','Museums','Resorts','Parks/picnic spots','Beaches','Theaters','Religious institutions']], orient='h');"
      ],
      "metadata": {
        "id": "4uriGJ1SpfGW",
        "colab": {
          "base_uri": "https://localhost:8080/",
          "height": 644
        },
        "outputId": "f4fe18fc-9193-4e06-87a1-ab90906f339f"
      },
      "execution_count": null,
      "outputs": [
        {
          "output_type": "display_data",
          "data": {
            "text/plain": [
              "<Figure size 1152x864 with 1 Axes>"
            ],
            "image/png": "[encoded data removed]"
          },
          "metadata": {}
        }
      ]
    },
    {
      "cell_type": "markdown",
      "source": [
        "Identifikasi Outlier pada dataset 'tripadvisor_review.csv' dilakukan dengan membuat Boxplot pada masing masing kategori. Output yang dihasilkan terlihat bahwa pada data kategori Religion Institutions tidak ditemukan adanya titik titik diluar boxplot yang berarti bahwa tidak ditemukan adanya outlier pada data kategori Religion Institutions, namun pada data kategori selain kategori Religion Institutions menunjukkan adanya titik titik diluar kotak boxplot sehingga teridentifikasi adanya outlier pada data.\n"
      ],
      "metadata": {
        "id": "9DUoOIk_C2Pw"
      }
    },
    {
      "cell_type": "code",
      "source": [
        "data_clustering = pd.DataFrame({'User ID':dataset['User ID'],'Art Galleries':dataset['Art Galleries'],'Dance Clubs':dataset['Dance Clubs'],'Juice Bars':dataset['Juice Bars'],'Restaurants':dataset['Restaurants'],'Museums':dataset['Museums'],'Resorts':dataset['Resorts'],'Parks/picnic spots':dataset['Parks/picnic spots'],'Beaches':dataset['Beaches'],'Theaters':dataset['Theaters'],'Religious institutions':dataset['Religious institutions']})"
      ],
      "metadata": {
        "id": "HmIAbn1h8uBr"
      },
      "execution_count": null,
      "outputs": []
    },
    {
      "cell_type": "code",
      "source": [
        "data_clustering=data_clustering.groupby('User ID').sum()"
      ],
      "metadata": {
        "id": "mVh9JLlE90cX"
      },
      "execution_count": null,
      "outputs": []
    },
    {
      "cell_type": "code",
      "source": [
        "data_clustering"
      ],
      "metadata": {
        "id": "xjaAuc3Xp-3G",
        "colab": {
          "base_uri": "https://localhost:8080/",
          "height": 534
        },
        "outputId": "3f056fc6-3d65-4247-f2aa-51e07b1a48ee"
      },
      "execution_count": null,
      "outputs": [
        {
          "output_type": "execute_result",
          "data": {
            "text/plain": [
              "         Art Galleries  Dance Clubs  Juice Bars  Restaurants  Museums  \\\n",
              "User ID                                                                 \n",
              "10001             0.93         1.80        2.29         0.62     0.80   \n",
              "10002             1.02         2.20        2.66         0.64     1.42   \n",
              "10003             1.22         0.80        0.54         0.53     0.24   \n",
              "10004             0.45         1.80        0.29         0.57     0.46   \n",
              "10005             0.51         1.20        1.18         0.57     1.54   \n",
              "...                ...          ...         ...          ...      ...   \n",
              "10976             0.74         1.12        0.30         0.53     0.88   \n",
              "10977             1.25         0.92        1.12         0.38     0.78   \n",
              "10978             0.61         1.32        0.67         0.43     1.30   \n",
              "10979             0.93         0.20        0.13         0.43     0.30   \n",
              "10980             0.93         0.56        1.13         0.51     1.34   \n",
              "\n",
              "         Resorts  Parks/picnic spots  Beaches  Theaters  \\\n",
              "User ID                                                   \n",
              "10001       2.42                3.19     2.79      1.82   \n",
              "10002       3.18                3.21     2.63      1.86   \n",
              "10003       1.54                3.18     2.80      1.31   \n",
              "10004       1.52                3.18     2.96      1.57   \n",
              "10005       2.02                3.18     2.78      1.18   \n",
              "...          ...                 ...      ...       ...   \n",
              "10976       1.38                3.17     2.78      0.99   \n",
              "10977       1.68                3.18     2.79      1.34   \n",
              "10978       1.78                3.17     2.81      1.34   \n",
              "10979       0.40                3.18     2.98      1.12   \n",
              "10980       2.36                3.18     2.87      1.34   \n",
              "\n",
              "         Religious institutions  \n",
              "User ID                          \n",
              "10001                      2.42  \n",
              "10002                      2.32  \n",
              "10003                      2.50  \n",
              "10004                      2.86  \n",
              "10005                      2.54  \n",
              "...                         ...  \n",
              "10976                      3.20  \n",
              "10977                      2.80  \n",
              "10978                      3.02  \n",
              "10979                      2.46  \n",
              "10980                      2.40  \n",
              "\n",
              "[980 rows x 10 columns]"
            ],
            "text/html": [
              "\n",
              "  <div id=\"df-5fd63a15-0494-4456-8550-ca189474d923\">\n",
              "    <div class=\"colab-df-container\">\n",
              "      <div>\n",
              "<style scoped>\n",
              "    .dataframe tbody tr th:only-of-type {\n",
              "        vertical-align: middle;\n",
              "    }\n",
              "\n",
              "    .dataframe tbody tr th {\n",
              "        vertical-align: top;\n",
              "    }\n",
              "\n",
              "    .dataframe thead th {\n",
              "        text-align: right;\n",
              "    }\n",
              "</style>\n",
              "<table border=\"1\" class=\"dataframe\">\n",
              "  <thead>\n",
              "    <tr style=\"text-align: right;\">\n",
              "      <th></th>\n",
              "      <th>Art Galleries</th>\n",
              "      <th>Dance Clubs</th>\n",
              "      <th>Juice Bars</th>\n",
              "      <th>Restaurants</th>\n",
              "      <th>Museums</th>\n",
              "      <th>Resorts</th>\n",
              "      <th>Parks/picnic spots</th>\n",
              "      <th>Beaches</th>\n",
              "      <th>Theaters</th>\n",
              "      <th>Religious institutions</th>\n",
              "    </tr>\n",
              "    <tr>\n",
              "      <th>User ID</th>\n",
              "      <th></th>\n",
              "      <th></th>\n",
              "      <th></th>\n",
              "      <th></th>\n",
              "      <th></th>\n",
              "      <th></th>\n",
              "      <th></th>\n",
              "      <th></th>\n",
              "      <th></th>\n",
              "      <th></th>\n",
              "    </tr>\n",
              "  </thead>\n",
              "  <tbody>\n",
              "    <tr>\n",
              "      <th>10001</th>\n",
              "      <td>0.93</td>\n",
              "      <td>1.80</td>\n",
              "      <td>2.29</td>\n",
              "      <td>0.62</td>\n",
              "      <td>0.80</td>\n",
              "      <td>2.42</td>\n",
              "      <td>3.19</td>\n",
              "      <td>2.79</td>\n",
              "      <td>1.82</td>\n",
              "      <td>2.42</td>\n",
              "    </tr>\n",
              "    <tr>\n",
              "      <th>10002</th>\n",
              "      <td>1.02</td>\n",
              "      <td>2.20</td>\n",
              "      <td>2.66</td>\n",
              "      <td>0.64</td>\n",
              "      <td>1.42</td>\n",
              "      <td>3.18</td>\n",
              "      <td>3.21</td>\n",
              "      <td>2.63</td>\n",
              "      <td>1.86</td>\n",
              "      <td>2.32</td>\n",
              "    </tr>\n",
              "    <tr>\n",
              "      <th>10003</th>\n",
              "      <td>1.22</td>\n",
              "      <td>0.80</td>\n",
              "      <td>0.54</td>\n",
              "      <td>0.53</td>\n",
              "      <td>0.24</td>\n",
              "      <td>1.54</td>\n",
              "      <td>3.18</td>\n",
              "      <td>2.80</td>\n",
              "      <td>1.31</td>\n",
              "      <td>2.50</td>\n",
              "    </tr>\n",
              "    <tr>\n",
              "      <th>10004</th>\n",
              "      <td>0.45</td>\n",
              "      <td>1.80</td>\n",
              "      <td>0.29</td>\n",
              "      <td>0.57</td>\n",
              "      <td>0.46</td>\n",
              "      <td>1.52</td>\n",
              "      <td>3.18</td>\n",
              "      <td>2.96</td>\n",
              "      <td>1.57</td>\n",
              "      <td>2.86</td>\n",
              "    </tr>\n",
              "    <tr>\n",
              "      <th>10005</th>\n",
              "      <td>0.51</td>\n",
              "      <td>1.20</td>\n",
              "      <td>1.18</td>\n",
              "      <td>0.57</td>\n",
              "      <td>1.54</td>\n",
              "      <td>2.02</td>\n",
              "      <td>3.18</td>\n",
              "      <td>2.78</td>\n",
              "      <td>1.18</td>\n",
              "      <td>2.54</td>\n",
              "    </tr>\n",
              "    <tr>\n",
              "      <th>...</th>\n",
              "      <td>...</td>\n",
              "      <td>...</td>\n",
              "      <td>...</td>\n",
              "      <td>...</td>\n",
              "      <td>...</td>\n",
              "      <td>...</td>\n",
              "      <td>...</td>\n",
              "      <td>...</td>\n",
              "      <td>...</td>\n",
              "      <td>...</td>\n",
              "    </tr>\n",
              "    <tr>\n",
              "      <th>10976</th>\n",
              "      <td>0.74</td>\n",
              "      <td>1.12</td>\n",
              "      <td>0.30</td>\n",
              "      <td>0.53</td>\n",
              "      <td>0.88</td>\n",
              "      <td>1.38</td>\n",
              "      <td>3.17</td>\n",
              "      <td>2.78</td>\n",
              "      <td>0.99</td>\n",
              "      <td>3.20</td>\n",
              "    </tr>\n",
              "    <tr>\n",
              "      <th>10977</th>\n",
              "      <td>1.25</td>\n",
              "      <td>0.92</td>\n",
              "      <td>1.12</td>\n",
              "      <td>0.38</td>\n",
              "      <td>0.78</td>\n",
              "      <td>1.68</td>\n",
              "      <td>3.18</td>\n",
              "      <td>2.79</td>\n",
              "      <td>1.34</td>\n",
              "      <td>2.80</td>\n",
              "    </tr>\n",
              "    <tr>\n",
              "      <th>10978</th>\n",
              "      <td>0.61</td>\n",
              "      <td>1.32</td>\n",
              "      <td>0.67</td>\n",
              "      <td>0.43</td>\n",
              "      <td>1.30</td>\n",
              "      <td>1.78</td>\n",
              "      <td>3.17</td>\n",
              "      <td>2.81</td>\n",
              "      <td>1.34</td>\n",
              "      <td>3.02</td>\n",
              "    </tr>\n",
              "    <tr>\n",
              "      <th>10979</th>\n",
              "      <td>0.93</td>\n",
              "      <td>0.20</td>\n",
              "      <td>0.13</td>\n",
              "      <td>0.43</td>\n",
              "      <td>0.30</td>\n",
              "      <td>0.40</td>\n",
              "      <td>3.18</td>\n",
              "      <td>2.98</td>\n",
              "      <td>1.12</td>\n",
              "      <td>2.46</td>\n",
              "    </tr>\n",
              "    <tr>\n",
              "      <th>10980</th>\n",
              "      <td>0.93</td>\n",
              "      <td>0.56</td>\n",
              "      <td>1.13</td>\n",
              "      <td>0.51</td>\n",
              "      <td>1.34</td>\n",
              "      <td>2.36</td>\n",
              "      <td>3.18</td>\n",
              "      <td>2.87</td>\n",
              "      <td>1.34</td>\n",
              "      <td>2.40</td>\n",
              "    </tr>\n",
              "  </tbody>\n",
              "</table>\n",
              "<p>980 rows × 10 columns</p>\n",
              "</div>\n",
              "      <button class=\"colab-df-convert\" onclick=\"convertToInteractive('df-5fd63a15-0494-4456-8550-ca189474d923')\"\n",
              "              title=\"Convert this dataframe to an interactive table.\"\n",
              "              style=\"display:none;\">\n",
              "        \n",
              "  <svg xmlns=\"http://www.w3.org/2000/svg\" height=\"24px\"viewBox=\"0 0 24 24\"\n",
              "       width=\"24px\">\n",
              "    <path d=\"M0 0h24v24H0V0z\" fill=\"none\"/>\n",
              "    <path d=\"M18.56 5.44l.94 2.06.94-2.06 2.06-.94-2.06-.94-.94-2.06-.94 2.06-2.06.94zm-11 1L8.5 8.5l.94-2.06 2.06-.94-2.06-.94L8.5 2.5l-.94 2.06-2.06.94zm10 10l.94 2.06.94-2.06 2.06-.94-2.06-.94-.94-2.06-.94 2.06-2.06.94z\"/><path d=\"M17.41 7.96l-1.37-1.37c-.4-.4-.92-.59-1.43-.59-.52 0-1.04.2-1.43.59L10.3 9.45l-7.72 7.72c-.78.78-.78 2.05 0 2.83L4 21.41c.39.39.9.59 1.41.59.51 0 1.02-.2 1.41-.59l7.78-7.78 2.81-2.81c.8-.78.8-2.07 0-2.86zM5.41 20L4 18.59l7.72-7.72 1.47 1.35L5.41 20z\"/>\n",
              "  </svg>\n",
              "      </button>\n",
              "      \n",
              "  <style>\n",
              "    .colab-df-container {\n",
              "      display:flex;\n",
              "      flex-wrap:wrap;\n",
              "      gap: 12px;\n",
              "    }\n",
              "\n",
              "    .colab-df-convert {\n",
              "      background-color: #E8F0FE;\n",
              "      border: none;\n",
              "      border-radius: 50%;\n",
              "      cursor: pointer;\n",
              "      display: none;\n",
              "      fill: #1967D2;\n",
              "      height: 32px;\n",
              "      padding: 0 0 0 0;\n",
              "      width: 32px;\n",
              "    }\n",
              "\n",
              "    .colab-df-convert:hover {\n",
              "      background-color: #E2EBFA;\n",
              "      box-shadow: 0px 1px 2px rgba(60, 64, 67, 0.3), 0px 1px 3px 1px rgba(60, 64, 67, 0.15);\n",
              "      fill: #174EA6;\n",
              "    }\n",
              "\n",
              "    [theme=dark] .colab-df-convert {\n",
              "      background-color: #3B4455;\n",
              "      fill: #D2E3FC;\n",
              "    }\n",
              "\n",
              "    [theme=dark] .colab-df-convert:hover {\n",
              "      background-color: #434B5C;\n",
              "      box-shadow: 0px 1px 3px 1px rgba(0, 0, 0, 0.15);\n",
              "      filter: drop-shadow(0px 1px 2px rgba(0, 0, 0, 0.3));\n",
              "      fill: #FFFFFF;\n",
              "    }\n",
              "  </style>\n",
              "\n",
              "      <script>\n",
              "        const buttonEl =\n",
              "          document.querySelector('#df-5fd63a15-0494-4456-8550-ca189474d923 button.colab-df-convert');\n",
              "        buttonEl.style.display =\n",
              "          google.colab.kernel.accessAllowed ? 'block' : 'none';\n",
              "\n",
              "        async function convertToInteractive(key) {\n",
              "          const element = document.querySelector('#df-5fd63a15-0494-4456-8550-ca189474d923');\n",
              "          const dataTable =\n",
              "            await google.colab.kernel.invokeFunction('convertToInteractive',\n",
              "                                                     [key], {});\n",
              "          if (!dataTable) return;\n",
              "\n",
              "          const docLinkHtml = 'Like what you see? Visit the ' +\n",
              "            '<a target=\"_blank\" href=https://colab.research.google.com/notebooks/data_table.ipynb>data table notebook</a>'\n",
              "            + ' to learn more about interactive tables.';\n",
              "          element.innerHTML = '';\n",
              "          dataTable['output_type'] = 'display_data';\n",
              "          await google.colab.output.renderOutput(dataTable, element);\n",
              "          const docLink = document.createElement('div');\n",
              "          docLink.innerHTML = docLinkHtml;\n",
              "          element.appendChild(docLink);\n",
              "        }\n",
              "      </script>\n",
              "    </div>\n",
              "  </div>\n",
              "  "
            ]
          },
          "metadata": {},
          "execution_count": 13
        }
      ]
    },
    {
      "cell_type": "markdown",
      "source": [
        "Didefinisikan data_clustering sebagai dataframe dari dataset yang memiliki total data sebesar 980 data.\n"
      ],
      "metadata": {
        "id": "RTqOloBsDEds"
      }
    },
    {
      "cell_type": "markdown",
      "source": [
        "### Cek No Multikolinearitas"
      ],
      "metadata": {
        "id": "H3ucY6ba-rZi"
      }
    },
    {
      "cell_type": "code",
      "source": [
        "%matplotlib inline\n",
        "correlation = data_clustering.corr()\n",
        "sns.heatmap(correlation,annot=True)"
      ],
      "metadata": {
        "colab": {
          "base_uri": "https://localhost:8080/",
          "height": 394
        },
        "id": "_Yv1qeF2-tqK",
        "outputId": "815092b5-0f05-4423-dc76-54d2ff1888e7"
      },
      "execution_count": null,
      "outputs": [
        {
          "output_type": "execute_result",
          "data": {
            "text/plain": [
              "<matplotlib.axes._subplots.AxesSubplot at 0x7f208c741c50>"
            ]
          },
          "metadata": {},
          "execution_count": 14
        },
        {
          "output_type": "display_data",
          "data": {
            "text/plain": [
              "<Figure size 432x288 with 2 Axes>"
            ],
            "image/png": "[encoded data removed]"
          },
          "metadata": {
            "needs_background": "light"
          }
        }
      ]
    },
    {
      "cell_type": "markdown",
      "source": [
        "Pada analisis clustering diperlukan adanya uji asumsi multikolinearitas. Pada output yang ditampilkan pada data train didapatkan bahwa mayoritas korelasi antar data < 0,7, namun terdapat korelasi antara kategori juice bars dan kategori park/picnic spots serta kategori juice bars dan kategori Religious institutions yang memiliki nilai korelasi ≥ 0,7 yang masing masing secara berurutan bernilai 0,75 serta 0,71. Karena terdapat 2 korelasi antar data kategori yang memiliki nilai korelasi ≥ 0,7 sehingga dapat dikatakan bahwa asumsi no multikolinearitas tidak terpenuhi"
      ],
      "metadata": {
        "id": "LuofHbBPDUz-"
      }
    },
    {
      "cell_type": "markdown",
      "source": [
        "### Menghitung VIF Value"
      ],
      "metadata": {
        "id": "qkN45VHObGf5"
      }
    },
    {
      "cell_type": "code",
      "source": [
        "import statsmodels.api as sm\n",
        "from statsmodels.stats.outliers_influence import variance_inflation_factor"
      ],
      "metadata": {
        "id": "awmh3Qu0bKVa",
        "colab": {
          "base_uri": "https://localhost:8080/"
        },
        "outputId": "d3204b93-a059-4cab-b883-6e8ddff07e95"
      },
      "execution_count": null,
      "outputs": [
        {
          "output_type": "stream",
          "name": "stderr",
          "text": [
            "/usr/local/lib/python3.7/dist-packages/statsmodels/tools/_testing.py:19: FutureWarning: pandas.util.testing is deprecated. Use the functions in the public API at pandas.testing instead.\n",
            "  import pandas.util.testing as tm\n"
          ]
        }
      ]
    },
    {
      "cell_type": "code",
      "source": [
        "# the independent variables set\n",
        "X = dataset[['Art Galleries', 'Dance Clubs', 'Juice Bars', 'Restaurants', 'Museums','Resorts','Parks/picnic spots','Beaches','Theaters','Religious institutions']]\n",
        "\n",
        "# VIF dataframe\n",
        "vif_info = pd.DataFrame()\n",
        "vif_info[\"fatures\"] = X.columns\n",
        "\n",
        "# calculating VIF for each feature\n",
        "vif_info[\"VIF\"] = [variance_inflation_factor(X.values, i)\n",
        "\t\t\t\t\t\tfor i in range(len(X.columns))]\n",
        "\n",
        "print(vif_info)"
      ],
      "metadata": {
        "colab": {
          "base_uri": "https://localhost:8080/"
        },
        "id": "pYgXaumacx2q",
        "outputId": "cc17c581-5250-41e0-f9ce-c2b5fc3afa39"
      },
      "execution_count": null,
      "outputs": [
        {
          "output_type": "stream",
          "name": "stdout",
          "text": [
            "                  fatures         VIF\n",
            "0           Art Galleries    9.510295\n",
            "1             Dance Clubs   10.099982\n",
            "2              Juice Bars    3.752489\n",
            "3             Restaurants    5.579521\n",
            "4                 Museums    8.933049\n",
            "5                 Resorts   24.526804\n",
            "6      Parks/picnic spots  646.854951\n",
            "7                 Beaches  475.220916\n",
            "8                Theaters   20.812945\n",
            "9  Religious institutions  120.639574\n"
          ]
        }
      ]
    },
    {
      "cell_type": "markdown",
      "source": [
        "Untuk mendeteksi adanya multikolinearitas pada data dilakukan pengujian nilai VIF. Berdasarkan output didapatkan nilai VIF pada masing masing kategori. Pada pengujian selanjutnya akan digunakan data kategori yang memiliki nilai ≤ 10. Sehingga yang akan digunakan untuk pengujian selanjutnya yaitu data kategori Art Galleries, Dance Clubs, Juice Bars,Restaurant,Museum.\n"
      ],
      "metadata": {
        "id": "gQag-RJkDmtC"
      }
    },
    {
      "cell_type": "code",
      "source": [
        "X = X.drop(['Resorts','Parks/picnic spots','Beaches','Theaters','Religious institutions'],axis=1)\n",
        "\n",
        "vif_info = pd.DataFrame()\n",
        "vif_info['VIF'] = [variance_inflation_factor(X.values,i) for i in range(X.shape[1])]\n",
        "vif_info['Features'] = X.columns\n",
        "vif_info.sort_values('VIF',ascending=False)"
      ],
      "metadata": {
        "colab": {
          "base_uri": "https://localhost:8080/",
          "height": 206
        },
        "id": "mEgrLufEc9kR",
        "outputId": "ba115295-9935-47ec-81ca-95d7d4bda641"
      },
      "execution_count": null,
      "outputs": [
        {
          "output_type": "execute_result",
          "data": {
            "text/plain": [
              "        VIF       Features\n",
              "1  6.282038    Dance Clubs\n",
              "4  5.512570        Museums\n",
              "0  5.104403  Art Galleries\n",
              "3  4.617672    Restaurants\n",
              "2  2.859720     Juice Bars"
            ],
            "text/html": [
              "\n",
              "  <div id=\"df-002ef3ea-9dd1-479c-9afe-7f1f3c3fcc94\">\n",
              "    <div class=\"colab-df-container\">\n",
              "      <div>\n",
              "<style scoped>\n",
              "    .dataframe tbody tr th:only-of-type {\n",
              "        vertical-align: middle;\n",
              "    }\n",
              "\n",
              "    .dataframe tbody tr th {\n",
              "        vertical-align: top;\n",
              "    }\n",
              "\n",
              "    .dataframe thead th {\n",
              "        text-align: right;\n",
              "    }\n",
              "</style>\n",
              "<table border=\"1\" class=\"dataframe\">\n",
              "  <thead>\n",
              "    <tr style=\"text-align: right;\">\n",
              "      <th></th>\n",
              "      <th>VIF</th>\n",
              "      <th>Features</th>\n",
              "    </tr>\n",
              "  </thead>\n",
              "  <tbody>\n",
              "    <tr>\n",
              "      <th>1</th>\n",
              "      <td>6.282038</td>\n",
              "      <td>Dance Clubs</td>\n",
              "    </tr>\n",
              "    <tr>\n",
              "      <th>4</th>\n",
              "      <td>5.512570</td>\n",
              "      <td>Museums</td>\n",
              "    </tr>\n",
              "    <tr>\n",
              "      <th>0</th>\n",
              "      <td>5.104403</td>\n",
              "      <td>Art Galleries</td>\n",
              "    </tr>\n",
              "    <tr>\n",
              "      <th>3</th>\n",
              "      <td>4.617672</td>\n",
              "      <td>Restaurants</td>\n",
              "    </tr>\n",
              "    <tr>\n",
              "      <th>2</th>\n",
              "      <td>2.859720</td>\n",
              "      <td>Juice Bars</td>\n",
              "    </tr>\n",
              "  </tbody>\n",
              "</table>\n",
              "</div>\n",
              "      <button class=\"colab-df-convert\" onclick=\"convertToInteractive('df-002ef3ea-9dd1-479c-9afe-7f1f3c3fcc94')\"\n",
              "              title=\"Convert this dataframe to an interactive table.\"\n",
              "              style=\"display:none;\">\n",
              "        \n",
              "  <svg xmlns=\"http://www.w3.org/2000/svg\" height=\"24px\"viewBox=\"0 0 24 24\"\n",
              "       width=\"24px\">\n",
              "    <path d=\"M0 0h24v24H0V0z\" fill=\"none\"/>\n",
              "    <path d=\"M18.56 5.44l.94 2.06.94-2.06 2.06-.94-2.06-.94-.94-2.06-.94 2.06-2.06.94zm-11 1L8.5 8.5l.94-2.06 2.06-.94-2.06-.94L8.5 2.5l-.94 2.06-2.06.94zm10 10l.94 2.06.94-2.06 2.06-.94-2.06-.94-.94-2.06-.94 2.06-2.06.94z\"/><path d=\"M17.41 7.96l-1.37-1.37c-.4-.4-.92-.59-1.43-.59-.52 0-1.04.2-1.43.59L10.3 9.45l-7.72 7.72c-.78.78-.78 2.05 0 2.83L4 21.41c.39.39.9.59 1.41.59.51 0 1.02-.2 1.41-.59l7.78-7.78 2.81-2.81c.8-.78.8-2.07 0-2.86zM5.41 20L4 18.59l7.72-7.72 1.47 1.35L5.41 20z\"/>\n",
              "  </svg>\n",
              "      </button>\n",
              "      \n",
              "  <style>\n",
              "    .colab-df-container {\n",
              "      display:flex;\n",
              "      flex-wrap:wrap;\n",
              "      gap: 12px;\n",
              "    }\n",
              "\n",
              "    .colab-df-convert {\n",
              "      background-color: #E8F0FE;\n",
              "      border: none;\n",
              "      border-radius: 50%;\n",
              "      cursor: pointer;\n",
              "      display: none;\n",
              "      fill: #1967D2;\n",
              "      height: 32px;\n",
              "      padding: 0 0 0 0;\n",
              "      width: 32px;\n",
              "    }\n",
              "\n",
              "    .colab-df-convert:hover {\n",
              "      background-color: #E2EBFA;\n",
              "      box-shadow: 0px 1px 2px rgba(60, 64, 67, 0.3), 0px 1px 3px 1px rgba(60, 64, 67, 0.15);\n",
              "      fill: #174EA6;\n",
              "    }\n",
              "\n",
              "    [theme=dark] .colab-df-convert {\n",
              "      background-color: #3B4455;\n",
              "      fill: #D2E3FC;\n",
              "    }\n",
              "\n",
              "    [theme=dark] .colab-df-convert:hover {\n",
              "      background-color: #434B5C;\n",
              "      box-shadow: 0px 1px 3px 1px rgba(0, 0, 0, 0.15);\n",
              "      filter: drop-shadow(0px 1px 2px rgba(0, 0, 0, 0.3));\n",
              "      fill: #FFFFFF;\n",
              "    }\n",
              "  </style>\n",
              "\n",
              "      <script>\n",
              "        const buttonEl =\n",
              "          document.querySelector('#df-002ef3ea-9dd1-479c-9afe-7f1f3c3fcc94 button.colab-df-convert');\n",
              "        buttonEl.style.display =\n",
              "          google.colab.kernel.accessAllowed ? 'block' : 'none';\n",
              "\n",
              "        async function convertToInteractive(key) {\n",
              "          const element = document.querySelector('#df-002ef3ea-9dd1-479c-9afe-7f1f3c3fcc94');\n",
              "          const dataTable =\n",
              "            await google.colab.kernel.invokeFunction('convertToInteractive',\n",
              "                                                     [key], {});\n",
              "          if (!dataTable) return;\n",
              "\n",
              "          const docLinkHtml = 'Like what you see? Visit the ' +\n",
              "            '<a target=\"_blank\" href=https://colab.research.google.com/notebooks/data_table.ipynb>data table notebook</a>'\n",
              "            + ' to learn more about interactive tables.';\n",
              "          element.innerHTML = '';\n",
              "          dataTable['output_type'] = 'display_data';\n",
              "          await google.colab.output.renderOutput(dataTable, element);\n",
              "          const docLink = document.createElement('div');\n",
              "          docLink.innerHTML = docLinkHtml;\n",
              "          element.appendChild(docLink);\n",
              "        }\n",
              "      </script>\n",
              "    </div>\n",
              "  </div>\n",
              "  "
            ]
          },
          "metadata": {},
          "execution_count": 17
        }
      ]
    },
    {
      "cell_type": "markdown",
      "source": [
        "Setelah dilakukan drop data kategori yang memiliki VIF > 10 yaitu kategori 6 sampai 10, dilakukan pengujian nilai VIF kembali, didapatkan nilai VIF yang baru untuk maisng-masing kategori. Karena nilai VIF pada semua kategori < 10 maka kelima kategori dapat digunakan untuk analisis cluster.\n"
      ],
      "metadata": {
        "id": "kjzGUetnD18s"
      }
    },
    {
      "cell_type": "code",
      "source": [
        "data_clustering2 = pd.DataFrame({'User ID':dataset['User ID'],'Art Galleries':dataset['Art Galleries'],'Dance Clubs':dataset['Dance Clubs'],'Juice Bars':dataset['Juice Bars'],'Restaurants':dataset['Restaurants'],'Museums':dataset['Museums']})\n",
        "data_clustering2"
      ],
      "metadata": {
        "colab": {
          "base_uri": "https://localhost:8080/",
          "height": 424
        },
        "id": "vXjAqD9ge06F",
        "outputId": "51bda4d2-7242-4aae-8eef-f605d90f0db0"
      },
      "execution_count": null,
      "outputs": [
        {
          "output_type": "execute_result",
          "data": {
            "text/plain": [
              "     User ID  Art Galleries  Dance Clubs  Juice Bars  Restaurants  Museums\n",
              "0      10001           0.93         1.80        2.29         0.62     0.80\n",
              "1      10002           1.02         2.20        2.66         0.64     1.42\n",
              "2      10003           1.22         0.80        0.54         0.53     0.24\n",
              "3      10004           0.45         1.80        0.29         0.57     0.46\n",
              "4      10005           0.51         1.20        1.18         0.57     1.54\n",
              "..       ...            ...          ...         ...          ...      ...\n",
              "975    10976           0.74         1.12        0.30         0.53     0.88\n",
              "976    10977           1.25         0.92        1.12         0.38     0.78\n",
              "977    10978           0.61         1.32        0.67         0.43     1.30\n",
              "978    10979           0.93         0.20        0.13         0.43     0.30\n",
              "979    10980           0.93         0.56        1.13         0.51     1.34\n",
              "\n",
              "[980 rows x 6 columns]"
            ],
            "text/html": [
              "\n",
              "  <div id=\"df-19de2a22-45a4-444f-86e5-315a84cdbac5\">\n",
              "    <div class=\"colab-df-container\">\n",
              "      <div>\n",
              "<style scoped>\n",
              "    .dataframe tbody tr th:only-of-type {\n",
              "        vertical-align: middle;\n",
              "    }\n",
              "\n",
              "    .dataframe tbody tr th {\n",
              "        vertical-align: top;\n",
              "    }\n",
              "\n",
              "    .dataframe thead th {\n",
              "        text-align: right;\n",
              "    }\n",
              "</style>\n",
              "<table border=\"1\" class=\"dataframe\">\n",
              "  <thead>\n",
              "    <tr style=\"text-align: right;\">\n",
              "      <th></th>\n",
              "      <th>User ID</th>\n",
              "      <th>Art Galleries</th>\n",
              "      <th>Dance Clubs</th>\n",
              "      <th>Juice Bars</th>\n",
              "      <th>Restaurants</th>\n",
              "      <th>Museums</th>\n",
              "    </tr>\n",
              "  </thead>\n",
              "  <tbody>\n",
              "    <tr>\n",
              "      <th>0</th>\n",
              "      <td>10001</td>\n",
              "      <td>0.93</td>\n",
              "      <td>1.80</td>\n",
              "      <td>2.29</td>\n",
              "      <td>0.62</td>\n",
              "      <td>0.80</td>\n",
              "    </tr>\n",
              "    <tr>\n",
              "      <th>1</th>\n",
              "      <td>10002</td>\n",
              "      <td>1.02</td>\n",
              "      <td>2.20</td>\n",
              "      <td>2.66</td>\n",
              "      <td>0.64</td>\n",
              "      <td>1.42</td>\n",
              "    </tr>\n",
              "    <tr>\n",
              "      <th>2</th>\n",
              "      <td>10003</td>\n",
              "      <td>1.22</td>\n",
              "      <td>0.80</td>\n",
              "      <td>0.54</td>\n",
              "      <td>0.53</td>\n",
              "      <td>0.24</td>\n",
              "    </tr>\n",
              "    <tr>\n",
              "      <th>3</th>\n",
              "      <td>10004</td>\n",
              "      <td>0.45</td>\n",
              "      <td>1.80</td>\n",
              "      <td>0.29</td>\n",
              "      <td>0.57</td>\n",
              "      <td>0.46</td>\n",
              "    </tr>\n",
              "    <tr>\n",
              "      <th>4</th>\n",
              "      <td>10005</td>\n",
              "      <td>0.51</td>\n",
              "      <td>1.20</td>\n",
              "      <td>1.18</td>\n",
              "      <td>0.57</td>\n",
              "      <td>1.54</td>\n",
              "    </tr>\n",
              "    <tr>\n",
              "      <th>...</th>\n",
              "      <td>...</td>\n",
              "      <td>...</td>\n",
              "      <td>...</td>\n",
              "      <td>...</td>\n",
              "      <td>...</td>\n",
              "      <td>...</td>\n",
              "    </tr>\n",
              "    <tr>\n",
              "      <th>975</th>\n",
              "      <td>10976</td>\n",
              "      <td>0.74</td>\n",
              "      <td>1.12</td>\n",
              "      <td>0.30</td>\n",
              "      <td>0.53</td>\n",
              "      <td>0.88</td>\n",
              "    </tr>\n",
              "    <tr>\n",
              "      <th>976</th>\n",
              "      <td>10977</td>\n",
              "      <td>1.25</td>\n",
              "      <td>0.92</td>\n",
              "      <td>1.12</td>\n",
              "      <td>0.38</td>\n",
              "      <td>0.78</td>\n",
              "    </tr>\n",
              "    <tr>\n",
              "      <th>977</th>\n",
              "      <td>10978</td>\n",
              "      <td>0.61</td>\n",
              "      <td>1.32</td>\n",
              "      <td>0.67</td>\n",
              "      <td>0.43</td>\n",
              "      <td>1.30</td>\n",
              "    </tr>\n",
              "    <tr>\n",
              "      <th>978</th>\n",
              "      <td>10979</td>\n",
              "      <td>0.93</td>\n",
              "      <td>0.20</td>\n",
              "      <td>0.13</td>\n",
              "      <td>0.43</td>\n",
              "      <td>0.30</td>\n",
              "    </tr>\n",
              "    <tr>\n",
              "      <th>979</th>\n",
              "      <td>10980</td>\n",
              "      <td>0.93</td>\n",
              "      <td>0.56</td>\n",
              "      <td>1.13</td>\n",
              "      <td>0.51</td>\n",
              "      <td>1.34</td>\n",
              "    </tr>\n",
              "  </tbody>\n",
              "</table>\n",
              "<p>980 rows × 6 columns</p>\n",
              "</div>\n",
              "      <button class=\"colab-df-convert\" onclick=\"convertToInteractive('df-19de2a22-45a4-444f-86e5-315a84cdbac5')\"\n",
              "              title=\"Convert this dataframe to an interactive table.\"\n",
              "              style=\"display:none;\">\n",
              "        \n",
              "  <svg xmlns=\"http://www.w3.org/2000/svg\" height=\"24px\"viewBox=\"0 0 24 24\"\n",
              "       width=\"24px\">\n",
              "    <path d=\"M0 0h24v24H0V0z\" fill=\"none\"/>\n",
              "    <path d=\"M18.56 5.44l.94 2.06.94-2.06 2.06-.94-2.06-.94-.94-2.06-.94 2.06-2.06.94zm-11 1L8.5 8.5l.94-2.06 2.06-.94-2.06-.94L8.5 2.5l-.94 2.06-2.06.94zm10 10l.94 2.06.94-2.06 2.06-.94-2.06-.94-.94-2.06-.94 2.06-2.06.94z\"/><path d=\"M17.41 7.96l-1.37-1.37c-.4-.4-.92-.59-1.43-.59-.52 0-1.04.2-1.43.59L10.3 9.45l-7.72 7.72c-.78.78-.78 2.05 0 2.83L4 21.41c.39.39.9.59 1.41.59.51 0 1.02-.2 1.41-.59l7.78-7.78 2.81-2.81c.8-.78.8-2.07 0-2.86zM5.41 20L4 18.59l7.72-7.72 1.47 1.35L5.41 20z\"/>\n",
              "  </svg>\n",
              "      </button>\n",
              "      \n",
              "  <style>\n",
              "    .colab-df-container {\n",
              "      display:flex;\n",
              "      flex-wrap:wrap;\n",
              "      gap: 12px;\n",
              "    }\n",
              "\n",
              "    .colab-df-convert {\n",
              "      background-color: #E8F0FE;\n",
              "      border: none;\n",
              "      border-radius: 50%;\n",
              "      cursor: pointer;\n",
              "      display: none;\n",
              "      fill: #1967D2;\n",
              "      height: 32px;\n",
              "      padding: 0 0 0 0;\n",
              "      width: 32px;\n",
              "    }\n",
              "\n",
              "    .colab-df-convert:hover {\n",
              "      background-color: #E2EBFA;\n",
              "      box-shadow: 0px 1px 2px rgba(60, 64, 67, 0.3), 0px 1px 3px 1px rgba(60, 64, 67, 0.15);\n",
              "      fill: #174EA6;\n",
              "    }\n",
              "\n",
              "    [theme=dark] .colab-df-convert {\n",
              "      background-color: #3B4455;\n",
              "      fill: #D2E3FC;\n",
              "    }\n",
              "\n",
              "    [theme=dark] .colab-df-convert:hover {\n",
              "      background-color: #434B5C;\n",
              "      box-shadow: 0px 1px 3px 1px rgba(0, 0, 0, 0.15);\n",
              "      filter: drop-shadow(0px 1px 2px rgba(0, 0, 0, 0.3));\n",
              "      fill: #FFFFFF;\n",
              "    }\n",
              "  </style>\n",
              "\n",
              "      <script>\n",
              "        const buttonEl =\n",
              "          document.querySelector('#df-19de2a22-45a4-444f-86e5-315a84cdbac5 button.colab-df-convert');\n",
              "        buttonEl.style.display =\n",
              "          google.colab.kernel.accessAllowed ? 'block' : 'none';\n",
              "\n",
              "        async function convertToInteractive(key) {\n",
              "          const element = document.querySelector('#df-19de2a22-45a4-444f-86e5-315a84cdbac5');\n",
              "          const dataTable =\n",
              "            await google.colab.kernel.invokeFunction('convertToInteractive',\n",
              "                                                     [key], {});\n",
              "          if (!dataTable) return;\n",
              "\n",
              "          const docLinkHtml = 'Like what you see? Visit the ' +\n",
              "            '<a target=\"_blank\" href=https://colab.research.google.com/notebooks/data_table.ipynb>data table notebook</a>'\n",
              "            + ' to learn more about interactive tables.';\n",
              "          element.innerHTML = '';\n",
              "          dataTable['output_type'] = 'display_data';\n",
              "          await google.colab.output.renderOutput(dataTable, element);\n",
              "          const docLink = document.createElement('div');\n",
              "          docLink.innerHTML = docLinkHtml;\n",
              "          element.appendChild(docLink);\n",
              "        }\n",
              "      </script>\n",
              "    </div>\n",
              "  </div>\n",
              "  "
            ]
          },
          "metadata": {},
          "execution_count": 18
        }
      ]
    },
    {
      "cell_type": "code",
      "source": [
        "data_clustering2['User ID'].value_counts()"
      ],
      "metadata": {
        "colab": {
          "base_uri": "https://localhost:8080/"
        },
        "id": "JEo-mFqffLom",
        "outputId": "44871d64-2dc9-4b57-d203-468c46260f73"
      },
      "execution_count": null,
      "outputs": [
        {
          "output_type": "execute_result",
          "data": {
            "text/plain": [
              "10001    1\n",
              "10645    1\n",
              "10647    1\n",
              "10648    1\n",
              "10649    1\n",
              "        ..\n",
              "10331    1\n",
              "10332    1\n",
              "10333    1\n",
              "10334    1\n",
              "10980    1\n",
              "Name: User ID, Length: 980, dtype: int64"
            ]
          },
          "metadata": {},
          "execution_count": 19
        }
      ]
    },
    {
      "cell_type": "code",
      "source": [
        "data_clustering3 = data_clustering2.groupby('User ID').sum()"
      ],
      "metadata": {
        "id": "jvoJSbLlfPPo"
      },
      "execution_count": null,
      "outputs": []
    },
    {
      "cell_type": "code",
      "source": [
        "data_clustering3"
      ],
      "metadata": {
        "colab": {
          "base_uri": "https://localhost:8080/",
          "height": 455
        },
        "id": "NFgQi8i0gJJf",
        "outputId": "43db3d8b-0fd7-48d0-f95b-2b93774651ee"
      },
      "execution_count": null,
      "outputs": [
        {
          "output_type": "execute_result",
          "data": {
            "text/plain": [
              "         Art Galleries  Dance Clubs  Juice Bars  Restaurants  Museums\n",
              "User ID                                                              \n",
              "10001             0.93         1.80        2.29         0.62     0.80\n",
              "10002             1.02         2.20        2.66         0.64     1.42\n",
              "10003             1.22         0.80        0.54         0.53     0.24\n",
              "10004             0.45         1.80        0.29         0.57     0.46\n",
              "10005             0.51         1.20        1.18         0.57     1.54\n",
              "...                ...          ...         ...          ...      ...\n",
              "10976             0.74         1.12        0.30         0.53     0.88\n",
              "10977             1.25         0.92        1.12         0.38     0.78\n",
              "10978             0.61         1.32        0.67         0.43     1.30\n",
              "10979             0.93         0.20        0.13         0.43     0.30\n",
              "10980             0.93         0.56        1.13         0.51     1.34\n",
              "\n",
              "[980 rows x 5 columns]"
            ],
            "text/html": [
              "\n",
              "  <div id=\"df-562717dc-38f4-4703-96bf-81391bfc3cf8\">\n",
              "    <div class=\"colab-df-container\">\n",
              "      <div>\n",
              "<style scoped>\n",
              "    .dataframe tbody tr th:only-of-type {\n",
              "        vertical-align: middle;\n",
              "    }\n",
              "\n",
              "    .dataframe tbody tr th {\n",
              "        vertical-align: top;\n",
              "    }\n",
              "\n",
              "    .dataframe thead th {\n",
              "        text-align: right;\n",
              "    }\n",
              "</style>\n",
              "<table border=\"1\" class=\"dataframe\">\n",
              "  <thead>\n",
              "    <tr style=\"text-align: right;\">\n",
              "      <th></th>\n",
              "      <th>Art Galleries</th>\n",
              "      <th>Dance Clubs</th>\n",
              "      <th>Juice Bars</th>\n",
              "      <th>Restaurants</th>\n",
              "      <th>Museums</th>\n",
              "    </tr>\n",
              "    <tr>\n",
              "      <th>User ID</th>\n",
              "      <th></th>\n",
              "      <th></th>\n",
              "      <th></th>\n",
              "      <th></th>\n",
              "      <th></th>\n",
              "    </tr>\n",
              "  </thead>\n",
              "  <tbody>\n",
              "    <tr>\n",
              "      <th>10001</th>\n",
              "      <td>0.93</td>\n",
              "      <td>1.80</td>\n",
              "      <td>2.29</td>\n",
              "      <td>0.62</td>\n",
              "      <td>0.80</td>\n",
              "    </tr>\n",
              "    <tr>\n",
              "      <th>10002</th>\n",
              "      <td>1.02</td>\n",
              "      <td>2.20</td>\n",
              "      <td>2.66</td>\n",
              "      <td>0.64</td>\n",
              "      <td>1.42</td>\n",
              "    </tr>\n",
              "    <tr>\n",
              "      <th>10003</th>\n",
              "      <td>1.22</td>\n",
              "      <td>0.80</td>\n",
              "      <td>0.54</td>\n",
              "      <td>0.53</td>\n",
              "      <td>0.24</td>\n",
              "    </tr>\n",
              "    <tr>\n",
              "      <th>10004</th>\n",
              "      <td>0.45</td>\n",
              "      <td>1.80</td>\n",
              "      <td>0.29</td>\n",
              "      <td>0.57</td>\n",
              "      <td>0.46</td>\n",
              "    </tr>\n",
              "    <tr>\n",
              "      <th>10005</th>\n",
              "      <td>0.51</td>\n",
              "      <td>1.20</td>\n",
              "      <td>1.18</td>\n",
              "      <td>0.57</td>\n",
              "      <td>1.54</td>\n",
              "    </tr>\n",
              "    <tr>\n",
              "      <th>...</th>\n",
              "      <td>...</td>\n",
              "      <td>...</td>\n",
              "      <td>...</td>\n",
              "      <td>...</td>\n",
              "      <td>...</td>\n",
              "    </tr>\n",
              "    <tr>\n",
              "      <th>10976</th>\n",
              "      <td>0.74</td>\n",
              "      <td>1.12</td>\n",
              "      <td>0.30</td>\n",
              "      <td>0.53</td>\n",
              "      <td>0.88</td>\n",
              "    </tr>\n",
              "    <tr>\n",
              "      <th>10977</th>\n",
              "      <td>1.25</td>\n",
              "      <td>0.92</td>\n",
              "      <td>1.12</td>\n",
              "      <td>0.38</td>\n",
              "      <td>0.78</td>\n",
              "    </tr>\n",
              "    <tr>\n",
              "      <th>10978</th>\n",
              "      <td>0.61</td>\n",
              "      <td>1.32</td>\n",
              "      <td>0.67</td>\n",
              "      <td>0.43</td>\n",
              "      <td>1.30</td>\n",
              "    </tr>\n",
              "    <tr>\n",
              "      <th>10979</th>\n",
              "      <td>0.93</td>\n",
              "      <td>0.20</td>\n",
              "      <td>0.13</td>\n",
              "      <td>0.43</td>\n",
              "      <td>0.30</td>\n",
              "    </tr>\n",
              "    <tr>\n",
              "      <th>10980</th>\n",
              "      <td>0.93</td>\n",
              "      <td>0.56</td>\n",
              "      <td>1.13</td>\n",
              "      <td>0.51</td>\n",
              "      <td>1.34</td>\n",
              "    </tr>\n",
              "  </tbody>\n",
              "</table>\n",
              "<p>980 rows × 5 columns</p>\n",
              "</div>\n",
              "      <button class=\"colab-df-convert\" onclick=\"convertToInteractive('df-562717dc-38f4-4703-96bf-81391bfc3cf8')\"\n",
              "              title=\"Convert this dataframe to an interactive table.\"\n",
              "              style=\"display:none;\">\n",
              "        \n",
              "  <svg xmlns=\"http://www.w3.org/2000/svg\" height=\"24px\"viewBox=\"0 0 24 24\"\n",
              "       width=\"24px\">\n",
              "    <path d=\"M0 0h24v24H0V0z\" fill=\"none\"/>\n",
              "    <path d=\"M18.56 5.44l.94 2.06.94-2.06 2.06-.94-2.06-.94-.94-2.06-.94 2.06-2.06.94zm-11 1L8.5 8.5l.94-2.06 2.06-.94-2.06-.94L8.5 2.5l-.94 2.06-2.06.94zm10 10l.94 2.06.94-2.06 2.06-.94-2.06-.94-.94-2.06-.94 2.06-2.06.94z\"/><path d=\"M17.41 7.96l-1.37-1.37c-.4-.4-.92-.59-1.43-.59-.52 0-1.04.2-1.43.59L10.3 9.45l-7.72 7.72c-.78.78-.78 2.05 0 2.83L4 21.41c.39.39.9.59 1.41.59.51 0 1.02-.2 1.41-.59l7.78-7.78 2.81-2.81c.8-.78.8-2.07 0-2.86zM5.41 20L4 18.59l7.72-7.72 1.47 1.35L5.41 20z\"/>\n",
              "  </svg>\n",
              "      </button>\n",
              "      \n",
              "  <style>\n",
              "    .colab-df-container {\n",
              "      display:flex;\n",
              "      flex-wrap:wrap;\n",
              "      gap: 12px;\n",
              "    }\n",
              "\n",
              "    .colab-df-convert {\n",
              "      background-color: #E8F0FE;\n",
              "      border: none;\n",
              "      border-radius: 50%;\n",
              "      cursor: pointer;\n",
              "      display: none;\n",
              "      fill: #1967D2;\n",
              "      height: 32px;\n",
              "      padding: 0 0 0 0;\n",
              "      width: 32px;\n",
              "    }\n",
              "\n",
              "    .colab-df-convert:hover {\n",
              "      background-color: #E2EBFA;\n",
              "      box-shadow: 0px 1px 2px rgba(60, 64, 67, 0.3), 0px 1px 3px 1px rgba(60, 64, 67, 0.15);\n",
              "      fill: #174EA6;\n",
              "    }\n",
              "\n",
              "    [theme=dark] .colab-df-convert {\n",
              "      background-color: #3B4455;\n",
              "      fill: #D2E3FC;\n",
              "    }\n",
              "\n",
              "    [theme=dark] .colab-df-convert:hover {\n",
              "      background-color: #434B5C;\n",
              "      box-shadow: 0px 1px 3px 1px rgba(0, 0, 0, 0.15);\n",
              "      filter: drop-shadow(0px 1px 2px rgba(0, 0, 0, 0.3));\n",
              "      fill: #FFFFFF;\n",
              "    }\n",
              "  </style>\n",
              "\n",
              "      <script>\n",
              "        const buttonEl =\n",
              "          document.querySelector('#df-562717dc-38f4-4703-96bf-81391bfc3cf8 button.colab-df-convert');\n",
              "        buttonEl.style.display =\n",
              "          google.colab.kernel.accessAllowed ? 'block' : 'none';\n",
              "\n",
              "        async function convertToInteractive(key) {\n",
              "          const element = document.querySelector('#df-562717dc-38f4-4703-96bf-81391bfc3cf8');\n",
              "          const dataTable =\n",
              "            await google.colab.kernel.invokeFunction('convertToInteractive',\n",
              "                                                     [key], {});\n",
              "          if (!dataTable) return;\n",
              "\n",
              "          const docLinkHtml = 'Like what you see? Visit the ' +\n",
              "            '<a target=\"_blank\" href=https://colab.research.google.com/notebooks/data_table.ipynb>data table notebook</a>'\n",
              "            + ' to learn more about interactive tables.';\n",
              "          element.innerHTML = '';\n",
              "          dataTable['output_type'] = 'display_data';\n",
              "          await google.colab.output.renderOutput(dataTable, element);\n",
              "          const docLink = document.createElement('div');\n",
              "          docLink.innerHTML = docLinkHtml;\n",
              "          element.appendChild(docLink);\n",
              "        }\n",
              "      </script>\n",
              "    </div>\n",
              "  </div>\n",
              "  "
            ]
          },
          "metadata": {},
          "execution_count": 21
        }
      ]
    },
    {
      "cell_type": "code",
      "source": [
        "sns.boxplot(data=dataset[['Art Galleries', 'Dance Clubs', 'Juice Bars', 'Restaurants', 'Museums']], orient='h');"
      ],
      "metadata": {
        "colab": {
          "base_uri": "https://localhost:8080/",
          "height": 268
        },
        "id": "8mbWIZbrgNMk",
        "outputId": "e6209830-3e21-46d8-9912-12e976d7e44d"
      },
      "execution_count": null,
      "outputs": [
        {
          "output_type": "display_data",
          "data": {
            "text/plain": [
              "<Figure size 432x288 with 1 Axes>"
            ],
            "image/png": "[encoded data removed]"
          },
          "metadata": {
            "needs_background": "light"
          }
        }
      ]
    },
    {
      "cell_type": "markdown",
      "source": [
        "Dilakukan pengecekan data outlier kembali menggunakan boxplot, pada kelima data kategori menunjukkan adanya titik titik diluar kotak boxplot sehingga teridentifikasi adanya outlier pada data."
      ],
      "metadata": {
        "id": "vesf72vzEYq9"
      }
    },
    {
      "cell_type": "code",
      "source": [
        "%matplotlib inline\n",
        "correlation = data_clustering3.corr()\n",
        "sns.heatmap(correlation,annot=True)"
      ],
      "metadata": {
        "colab": {
          "base_uri": "https://localhost:8080/",
          "height": 349
        },
        "id": "edUjmOO9gUAl",
        "outputId": "56cd0fac-52bf-415f-f768-719bfd572946"
      },
      "execution_count": null,
      "outputs": [
        {
          "output_type": "execute_result",
          "data": {
            "text/plain": [
              "<matplotlib.axes._subplots.AxesSubplot at 0x7f0e59b7eed0>"
            ]
          },
          "metadata": {},
          "execution_count": 123
        },
        {
          "output_type": "display_data",
          "data": {
            "text/plain": [
              "<Figure size 432x288 with 2 Axes>"
            ],
            "image/png": "[encoded data removed]"
          },
          "metadata": {
            "needs_background": "light"
          }
        }
      ]
    },
    {
      "cell_type": "markdown",
      "source": [
        "Selanjutnya akan dicek kembali multikolinearitas pada data dengan menggunakan data_clstering3. Berdasarkan output yang diperoleh didapatkan keseluruhan korelasi variabel memiliki nilai < 0,7 sehingga dapat disimpulkan bahwa asumsi no multikolinearitas pada data_clstering3 terpenuhi."
      ],
      "metadata": {
        "id": "RwIzmxsuEl3s"
      }
    },
    {
      "cell_type": "markdown",
      "source": [
        "### K-Means Clustering"
      ],
      "metadata": {
        "id": "wNVh-UhYko6Q"
      }
    },
    {
      "cell_type": "code",
      "source": [
        "from sklearn.cluster import KMeans\n",
        "from sklearn.metrics import silhouette_score\n",
        "from sklearn.preprocessing import StandardScaler"
      ],
      "metadata": {
        "id": "3ZoLOmY6mQIq"
      },
      "execution_count": null,
      "outputs": []
    },
    {
      "cell_type": "code",
      "source": [
        "range_n_clusters = [2, 3, 4, 5, 6, 7, 8]\n",
        "silhouette_avg = []\n",
        "bestsilhoutte = 0"
      ],
      "metadata": {
        "id": "Y35zsb2Hkjiv"
      },
      "execution_count": null,
      "outputs": []
    },
    {
      "cell_type": "code",
      "metadata": {
        "id": "Dz8-NZUzZmX4",
        "colab": {
          "base_uri": "https://localhost:8080/"
        },
        "outputId": "c77ac4aa-9a3b-42c2-fb1b-a20eeeaa4474"
      },
      "source": [
        "for num_clusters in range_n_clusters:\n",
        "\n",
        " # initialise KMeans\n",
        " kmeans = KMeans(init=\"random\", n_clusters=num_clusters, n_init=10, max_iter=300,random_state=42)\n",
        " #fit the clusters\n",
        " kmeans.fit(data_clustering3)\n",
        " clusters = kmeans.labels_\n",
        " print(num_clusters)\n",
        "\n",
        " # silhouette score\n",
        " score = silhouette_score(data_clustering3, clusters, metric='euclidean')\n",
        " print('Silhouetter Score: %.3f' % score)\n",
        " silhouette_avg.append(score)\n",
        "\n",
        " if score > bestsilhoutte:\n",
        "   bestclusters = clusters\n",
        "   bestsilhoutte = score"
      ],
      "execution_count": null,
      "outputs": [
        {
          "output_type": "stream",
          "name": "stdout",
          "text": [
            "2\n",
            "Silhouetter Score: 0.374\n",
            "3\n",
            "Silhouetter Score: 0.255\n",
            "4\n",
            "Silhouetter Score: 0.268\n",
            "5\n",
            "Silhouetter Score: 0.254\n",
            "6\n",
            "Silhouetter Score: 0.255\n",
            "7\n",
            "Silhouetter Score: 0.269\n",
            "8\n",
            "Silhouetter Score: 0.227\n"
          ]
        }
      ]
    },
    {
      "cell_type": "code",
      "metadata": {
        "colab": {
          "base_uri": "https://localhost:8080/",
          "height": 301
        },
        "id": "syvaPJPA5hsg",
        "outputId": "75c422df-345f-4a24-eb6a-a77fb82b46b2"
      },
      "source": [
        "plt.plot(range_n_clusters,silhouette_avg,'bx-')\n",
        "plt.xlabel('Values of K')\n",
        "plt.ylabel('Silhouette score')\n",
        "plt.title('Silhouette analysis For Optimal k')\n",
        "plt.show()"
      ],
      "execution_count": null,
      "outputs": [
        {
          "output_type": "display_data",
          "data": {
            "text/plain": [
              "<Figure size 432x288 with 1 Axes>"
            ],
            "image/png": "[encoded data removed]"
          },
          "metadata": {
            "needs_background": "light"
          }
        }
      ]
    },
    {
      "cell_type": "markdown",
      "source": [
        "Selanjutnya dilakukan clustering data dengan metode K-Means cluster, cluster yang akan dibuat sebanyak 7 cluster yang meliputi cluster 2 sampai 8 serta akan dicari nilai silhouette masing masing cluster. Didapatkan nilai silhouette terbaik yaitu pada 2 cluster dengan nilai silhouette\n",
        "sebesar 0,374.\n"
      ],
      "metadata": {
        "id": "q3EZ_GeiE3fg"
      }
    },
    {
      "cell_type": "code",
      "source": [
        "data_result_kmeans = data_clustering3.copy()\n",
        "data_result_kmeans['cluster'] = bestclusters\n",
        "data_result_kmeans"
      ],
      "metadata": {
        "colab": {
          "base_uri": "https://localhost:8080/",
          "height": 455
        },
        "id": "eJ5o57k1aGwo",
        "outputId": "3980f2b8-ec81-4812-f7ea-791b1f7709a0"
      },
      "execution_count": null,
      "outputs": [
        {
          "output_type": "execute_result",
          "data": {
            "text/plain": [
              "         Art Galleries  Dance Clubs  Juice Bars  Restaurants  Museums  cluster\n",
              "User ID                                                                       \n",
              "10001             0.93         1.80        2.29         0.62     0.80        0\n",
              "10002             1.02         2.20        2.66         0.64     1.42        0\n",
              "10003             1.22         0.80        0.54         0.53     0.24        1\n",
              "10004             0.45         1.80        0.29         0.57     0.46        1\n",
              "10005             0.51         1.20        1.18         0.57     1.54        0\n",
              "...                ...          ...         ...          ...      ...      ...\n",
              "10976             0.74         1.12        0.30         0.53     0.88        1\n",
              "10977             1.25         0.92        1.12         0.38     0.78        1\n",
              "10978             0.61         1.32        0.67         0.43     1.30        1\n",
              "10979             0.93         0.20        0.13         0.43     0.30        1\n",
              "10980             0.93         0.56        1.13         0.51     1.34        1\n",
              "\n",
              "[980 rows x 6 columns]"
            ],
            "text/html": [
              "\n",
              "  <div id=\"df-8968d38d-ea8d-403a-ad61-5f91ac5d4b15\">\n",
              "    <div class=\"colab-df-container\">\n",
              "      <div>\n",
              "<style scoped>\n",
              "    .dataframe tbody tr th:only-of-type {\n",
              "        vertical-align: middle;\n",
              "    }\n",
              "\n",
              "    .dataframe tbody tr th {\n",
              "        vertical-align: top;\n",
              "    }\n",
              "\n",
              "    .dataframe thead th {\n",
              "        text-align: right;\n",
              "    }\n",
              "</style>\n",
              "<table border=\"1\" class=\"dataframe\">\n",
              "  <thead>\n",
              "    <tr style=\"text-align: right;\">\n",
              "      <th></th>\n",
              "      <th>Art Galleries</th>\n",
              "      <th>Dance Clubs</th>\n",
              "      <th>Juice Bars</th>\n",
              "      <th>Restaurants</th>\n",
              "      <th>Museums</th>\n",
              "      <th>cluster</th>\n",
              "    </tr>\n",
              "    <tr>\n",
              "      <th>User ID</th>\n",
              "      <th></th>\n",
              "      <th></th>\n",
              "      <th></th>\n",
              "      <th></th>\n",
              "      <th></th>\n",
              "      <th></th>\n",
              "    </tr>\n",
              "  </thead>\n",
              "  <tbody>\n",
              "    <tr>\n",
              "      <th>10001</th>\n",
              "      <td>0.93</td>\n",
              "      <td>1.80</td>\n",
              "      <td>2.29</td>\n",
              "      <td>0.62</td>\n",
              "      <td>0.80</td>\n",
              "      <td>0</td>\n",
              "    </tr>\n",
              "    <tr>\n",
              "      <th>10002</th>\n",
              "      <td>1.02</td>\n",
              "      <td>2.20</td>\n",
              "      <td>2.66</td>\n",
              "      <td>0.64</td>\n",
              "      <td>1.42</td>\n",
              "      <td>0</td>\n",
              "    </tr>\n",
              "    <tr>\n",
              "      <th>10003</th>\n",
              "      <td>1.22</td>\n",
              "      <td>0.80</td>\n",
              "      <td>0.54</td>\n",
              "      <td>0.53</td>\n",
              "      <td>0.24</td>\n",
              "      <td>1</td>\n",
              "    </tr>\n",
              "    <tr>\n",
              "      <th>10004</th>\n",
              "      <td>0.45</td>\n",
              "      <td>1.80</td>\n",
              "      <td>0.29</td>\n",
              "      <td>0.57</td>\n",
              "      <td>0.46</td>\n",
              "      <td>1</td>\n",
              "    </tr>\n",
              "    <tr>\n",
              "      <th>10005</th>\n",
              "      <td>0.51</td>\n",
              "      <td>1.20</td>\n",
              "      <td>1.18</td>\n",
              "      <td>0.57</td>\n",
              "      <td>1.54</td>\n",
              "      <td>0</td>\n",
              "    </tr>\n",
              "    <tr>\n",
              "      <th>...</th>\n",
              "      <td>...</td>\n",
              "      <td>...</td>\n",
              "      <td>...</td>\n",
              "      <td>...</td>\n",
              "      <td>...</td>\n",
              "      <td>...</td>\n",
              "    </tr>\n",
              "    <tr>\n",
              "      <th>10976</th>\n",
              "      <td>0.74</td>\n",
              "      <td>1.12</td>\n",
              "      <td>0.30</td>\n",
              "      <td>0.53</td>\n",
              "      <td>0.88</td>\n",
              "      <td>1</td>\n",
              "    </tr>\n",
              "    <tr>\n",
              "      <th>10977</th>\n",
              "      <td>1.25</td>\n",
              "      <td>0.92</td>\n",
              "      <td>1.12</td>\n",
              "      <td>0.38</td>\n",
              "      <td>0.78</td>\n",
              "      <td>1</td>\n",
              "    </tr>\n",
              "    <tr>\n",
              "      <th>10978</th>\n",
              "      <td>0.61</td>\n",
              "      <td>1.32</td>\n",
              "      <td>0.67</td>\n",
              "      <td>0.43</td>\n",
              "      <td>1.30</td>\n",
              "      <td>1</td>\n",
              "    </tr>\n",
              "    <tr>\n",
              "      <th>10979</th>\n",
              "      <td>0.93</td>\n",
              "      <td>0.20</td>\n",
              "      <td>0.13</td>\n",
              "      <td>0.43</td>\n",
              "      <td>0.30</td>\n",
              "      <td>1</td>\n",
              "    </tr>\n",
              "    <tr>\n",
              "      <th>10980</th>\n",
              "      <td>0.93</td>\n",
              "      <td>0.56</td>\n",
              "      <td>1.13</td>\n",
              "      <td>0.51</td>\n",
              "      <td>1.34</td>\n",
              "      <td>1</td>\n",
              "    </tr>\n",
              "  </tbody>\n",
              "</table>\n",
              "<p>980 rows × 6 columns</p>\n",
              "</div>\n",
              "      <button class=\"colab-df-convert\" onclick=\"convertToInteractive('df-8968d38d-ea8d-403a-ad61-5f91ac5d4b15')\"\n",
              "              title=\"Convert this dataframe to an interactive table.\"\n",
              "              style=\"display:none;\">\n",
              "        \n",
              "  <svg xmlns=\"http://www.w3.org/2000/svg\" height=\"24px\"viewBox=\"0 0 24 24\"\n",
              "       width=\"24px\">\n",
              "    <path d=\"M0 0h24v24H0V0z\" fill=\"none\"/>\n",
              "    <path d=\"M18.56 5.44l.94 2.06.94-2.06 2.06-.94-2.06-.94-.94-2.06-.94 2.06-2.06.94zm-11 1L8.5 8.5l.94-2.06 2.06-.94-2.06-.94L8.5 2.5l-.94 2.06-2.06.94zm10 10l.94 2.06.94-2.06 2.06-.94-2.06-.94-.94-2.06-.94 2.06-2.06.94z\"/><path d=\"M17.41 7.96l-1.37-1.37c-.4-.4-.92-.59-1.43-.59-.52 0-1.04.2-1.43.59L10.3 9.45l-7.72 7.72c-.78.78-.78 2.05 0 2.83L4 21.41c.39.39.9.59 1.41.59.51 0 1.02-.2 1.41-.59l7.78-7.78 2.81-2.81c.8-.78.8-2.07 0-2.86zM5.41 20L4 18.59l7.72-7.72 1.47 1.35L5.41 20z\"/>\n",
              "  </svg>\n",
              "      </button>\n",
              "      \n",
              "  <style>\n",
              "    .colab-df-container {\n",
              "      display:flex;\n",
              "      flex-wrap:wrap;\n",
              "      gap: 12px;\n",
              "    }\n",
              "\n",
              "    .colab-df-convert {\n",
              "      background-color: #E8F0FE;\n",
              "      border: none;\n",
              "      border-radius: 50%;\n",
              "      cursor: pointer;\n",
              "      display: none;\n",
              "      fill: #1967D2;\n",
              "      height: 32px;\n",
              "      padding: 0 0 0 0;\n",
              "      width: 32px;\n",
              "    }\n",
              "\n",
              "    .colab-df-convert:hover {\n",
              "      background-color: #E2EBFA;\n",
              "      box-shadow: 0px 1px 2px rgba(60, 64, 67, 0.3), 0px 1px 3px 1px rgba(60, 64, 67, 0.15);\n",
              "      fill: #174EA6;\n",
              "    }\n",
              "\n",
              "    [theme=dark] .colab-df-convert {\n",
              "      background-color: #3B4455;\n",
              "      fill: #D2E3FC;\n",
              "    }\n",
              "\n",
              "    [theme=dark] .colab-df-convert:hover {\n",
              "      background-color: #434B5C;\n",
              "      box-shadow: 0px 1px 3px 1px rgba(0, 0, 0, 0.15);\n",
              "      filter: drop-shadow(0px 1px 2px rgba(0, 0, 0, 0.3));\n",
              "      fill: #FFFFFF;\n",
              "    }\n",
              "  </style>\n",
              "\n",
              "      <script>\n",
              "        const buttonEl =\n",
              "          document.querySelector('#df-8968d38d-ea8d-403a-ad61-5f91ac5d4b15 button.colab-df-convert');\n",
              "        buttonEl.style.display =\n",
              "          google.colab.kernel.accessAllowed ? 'block' : 'none';\n",
              "\n",
              "        async function convertToInteractive(key) {\n",
              "          const element = document.querySelector('#df-8968d38d-ea8d-403a-ad61-5f91ac5d4b15');\n",
              "          const dataTable =\n",
              "            await google.colab.kernel.invokeFunction('convertToInteractive',\n",
              "                                                     [key], {});\n",
              "          if (!dataTable) return;\n",
              "\n",
              "          const docLinkHtml = 'Like what you see? Visit the ' +\n",
              "            '<a target=\"_blank\" href=https://colab.research.google.com/notebooks/data_table.ipynb>data table notebook</a>'\n",
              "            + ' to learn more about interactive tables.';\n",
              "          element.innerHTML = '';\n",
              "          dataTable['output_type'] = 'display_data';\n",
              "          await google.colab.output.renderOutput(dataTable, element);\n",
              "          const docLink = document.createElement('div');\n",
              "          docLink.innerHTML = docLinkHtml;\n",
              "          element.appendChild(docLink);\n",
              "        }\n",
              "      </script>\n",
              "    </div>\n",
              "  </div>\n",
              "  "
            ]
          },
          "metadata": {},
          "execution_count": 128
        }
      ]
    },
    {
      "cell_type": "code",
      "source": [
        "data_result_kmeans['cluster'].value_counts()"
      ],
      "metadata": {
        "colab": {
          "base_uri": "https://localhost:8080/"
        },
        "id": "cHDMB3BjaJ2R",
        "outputId": "2e05cec7-1642-4aa2-d613-15d8ae835004"
      },
      "execution_count": null,
      "outputs": [
        {
          "output_type": "execute_result",
          "data": {
            "text/plain": [
              "1    609\n",
              "0    371\n",
              "Name: cluster, dtype: int64"
            ]
          },
          "metadata": {},
          "execution_count": 129
        }
      ]
    },
    {
      "cell_type": "code",
      "source": [
        "plt.figure(figsize=(8,5))\n",
        "sns.boxplot(x='cluster',y='Art Galleries',data=data_result_kmeans, palette='rainbow')\n",
        "plt.title(\"Art Galleries each Cluster\")"
      ],
      "metadata": {
        "colab": {
          "base_uri": "https://localhost:8080/",
          "height": 373
        },
        "id": "fMzNopRpaOdn",
        "outputId": "e826048b-c55d-44e4-bb1e-a54c38ecb3ea"
      },
      "execution_count": null,
      "outputs": [
        {
          "output_type": "execute_result",
          "data": {
            "text/plain": [
              "Text(0.5, 1.0, 'Art Galleries each Cluster')"
            ]
          },
          "metadata": {},
          "execution_count": 130
        },
        {
          "output_type": "display_data",
          "data": {
            "text/plain": [
              "<Figure size 576x360 with 1 Axes>"
            ],
            "image/png": "[encoded data removed]"
          },
          "metadata": {
            "needs_background": "light"
          }
        }
      ]
    },
    {
      "cell_type": "markdown",
      "source": [
        "Selanjutnya akan dibuat boxplot pada masing masing kategori untuk melihat adanya perbedaan diantara kedua cluster. Berdasarkan output yang didapatkan pada kategori Art and Galeries untuk kedua cluster relatif sama serta pada masing masing cluster memiliki data outlier.\n"
      ],
      "metadata": {
        "id": "c6zYsnahFGo5"
      }
    },
    {
      "cell_type": "code",
      "source": [
        "plt.figure(figsize=(8,5))\n",
        "sns.boxplot(x='cluster',y='Dance Clubs',data=data_result_kmeans, palette='rainbow')\n",
        "plt.title(\"Dance Clubs each Cluster\")"
      ],
      "metadata": {
        "colab": {
          "base_uri": "https://localhost:8080/",
          "height": 373
        },
        "id": "VJsErTt_a5XD",
        "outputId": "bc980b75-7b46-461e-afff-ac57cfadeaf4"
      },
      "execution_count": null,
      "outputs": [
        {
          "output_type": "execute_result",
          "data": {
            "text/plain": [
              "Text(0.5, 1.0, 'Dance Clubs each Cluster')"
            ]
          },
          "metadata": {},
          "execution_count": 134
        },
        {
          "output_type": "display_data",
          "data": {
            "text/plain": [
              "<Figure size 576x360 with 1 Axes>"
            ],
            "image/png": "[encoded data removed]"
          },
          "metadata": {
            "needs_background": "light"
          }
        }
      ]
    },
    {
      "cell_type": "markdown",
      "source": [
        "Berdasarkan output yang didapatkan pada kategori Dance Clubs untuk kedua cluster relatif sama, namun pada cluster 0 memiliki lebar boxplot yang lebih besar dari cluster 1 serta pada masing-masing cluster memiliki data outlier.\n"
      ],
      "metadata": {
        "id": "qRPd3pVBFQN-"
      }
    },
    {
      "cell_type": "code",
      "source": [
        "plt.figure(figsize=(8,5))\n",
        "sns.boxplot(x='cluster',y='Juice Bars',data=data_result_kmeans, palette='rainbow')\n",
        "plt.title(\"Juice Bars each Cluster\")"
      ],
      "metadata": {
        "colab": {
          "base_uri": "https://localhost:8080/",
          "height": 373
        },
        "id": "xtVTG-SHa-M5",
        "outputId": "47c60844-9ec7-4200-c9f6-938d22e67ed9"
      },
      "execution_count": null,
      "outputs": [
        {
          "output_type": "execute_result",
          "data": {
            "text/plain": [
              "Text(0.5, 1.0, 'Juice Bars each Cluster')"
            ]
          },
          "metadata": {},
          "execution_count": 135
        },
        {
          "output_type": "display_data",
          "data": {
            "text/plain": [
              "<Figure size 576x360 with 1 Axes>"
            ],
            "image/png": "[encoded data removed]"
          },
          "metadata": {
            "needs_background": "light"
          }
        }
      ]
    },
    {
      "cell_type": "markdown",
      "source": [
        "Berdasarkan output yang didapatkan pada kategori Juice Bars pada cluster 0 memiliki nilai pusat, Q1, dan Q3 yang lebih tinggi dari cluster 1 serta terdapat 1 outlier pada data cluster 0.\n"
      ],
      "metadata": {
        "id": "WTaqaoxgFVXy"
      }
    },
    {
      "cell_type": "code",
      "source": [
        "plt.figure(figsize=(8,5))\n",
        "sns.boxplot(x='cluster',y='Restaurants',data=data_result_kmeans, palette='rainbow')\n",
        "plt.title(\"Restaurants each Cluster\")"
      ],
      "metadata": {
        "colab": {
          "base_uri": "https://localhost:8080/",
          "height": 373
        },
        "id": "UI9EtlU7bBAz",
        "outputId": "721742fb-a60b-4de2-d471-bdc54ea043bb"
      },
      "execution_count": null,
      "outputs": [
        {
          "output_type": "execute_result",
          "data": {
            "text/plain": [
              "Text(0.5, 1.0, 'Restaurants each Cluster')"
            ]
          },
          "metadata": {},
          "execution_count": 136
        },
        {
          "output_type": "display_data",
          "data": {
            "text/plain": [
              "<Figure size 576x360 with 1 Axes>"
            ],
            "image/png": "[encoded data removed]"
          },
          "metadata": {
            "needs_background": "light"
          }
        }
      ]
    },
    {
      "cell_type": "markdown",
      "source": [
        "Berdasarkan output yang didapatkan pada kategori Restaurant untuk kedua cluster relatif sama serta pada masing masing cluster memiliki data outlier.\n"
      ],
      "metadata": {
        "id": "vqbjdxUwFkg_"
      }
    },
    {
      "cell_type": "code",
      "source": [
        "plt.figure(figsize=(8,5))\n",
        "sns.boxplot(x='cluster',y='Museums',data=data_result_kmeans, palette='rainbow')\n",
        "plt.title(\"Museums each Cluster\")"
      ],
      "metadata": {
        "colab": {
          "base_uri": "https://localhost:8080/",
          "height": 373
        },
        "id": "0a-jpEiWbDjD",
        "outputId": "269777b1-5aec-4fee-886f-d3ef46b99b47"
      },
      "execution_count": null,
      "outputs": [
        {
          "output_type": "execute_result",
          "data": {
            "text/plain": [
              "Text(0.5, 1.0, 'Museums each Cluster')"
            ]
          },
          "metadata": {},
          "execution_count": 137
        },
        {
          "output_type": "display_data",
          "data": {
            "text/plain": [
              "<Figure size 576x360 with 1 Axes>"
            ],
            "image/png": "[encoded data removed]"
          },
          "metadata": {
            "needs_background": "light"
          }
        }
      ]
    },
    {
      "cell_type": "markdown",
      "source": [
        "Berdasarkan output yang didapatkan pada kategori Museums terlihat pada cluster 0 memiliki nilai Pusat, Q1, dan Q3 yang lebih tinggi dari cluster 1 serta terdapat beberapa outlier pada data cluster 0 maupun cluster 1."
      ],
      "metadata": {
        "id": "OMHT3cweFrWu"
      }
    },
    {
      "cell_type": "markdown",
      "metadata": {
        "id": "hEb-Px3w3jmo"
      },
      "source": [
        "### Partitioning Around Medoids (K-Medoids)"
      ]
    },
    {
      "cell_type": "code",
      "source": [
        "!pip install scikit-learn-extra"
      ],
      "metadata": {
        "colab": {
          "base_uri": "https://localhost:8080/"
        },
        "id": "QAadlwzkmajs",
        "outputId": "7e83d7ce-e0a3-4726-dba4-e86f81b3b280"
      },
      "execution_count": null,
      "outputs": [
        {
          "output_type": "stream",
          "name": "stdout",
          "text": [
            "Requirement already satisfied: scikit-learn-extra in /usr/local/lib/python3.7/dist-packages (0.2.0)\n",
            "Requirement already satisfied: scikit-learn>=0.23.0 in /usr/local/lib/python3.7/dist-packages (from scikit-learn-extra) (1.0.2)\n",
            "Requirement already satisfied: numpy>=1.13.3 in /usr/local/lib/python3.7/dist-packages (from scikit-learn-extra) (1.21.5)\n",
            "Requirement already satisfied: scipy>=0.19.1 in /usr/local/lib/python3.7/dist-packages (from scikit-learn-extra) (1.4.1)\n",
            "Requirement already satisfied: joblib>=0.11 in /usr/local/lib/python3.7/dist-packages (from scikit-learn>=0.23.0->scikit-learn-extra) (1.1.0)\n",
            "Requirement already satisfied: threadpoolctl>=2.0.0 in /usr/local/lib/python3.7/dist-packages (from scikit-learn>=0.23.0->scikit-learn-extra) (3.1.0)\n"
          ]
        }
      ]
    },
    {
      "cell_type": "code",
      "metadata": {
        "id": "Z4piX30Y3jE6"
      },
      "source": [
        "from sklearn_extra.cluster import KMedoids"
      ],
      "execution_count": null,
      "outputs": []
    },
    {
      "cell_type": "code",
      "source": [
        "range_n_clusters = [2, 3, 4, 5, 6, 7, 8]\n",
        "silhouette_avg = []\n",
        "bestsilhoutte = 0"
      ],
      "metadata": {
        "id": "w55HXQkumgZr"
      },
      "execution_count": null,
      "outputs": []
    },
    {
      "cell_type": "code",
      "source": [
        "for num_clusters in range_n_clusters:\n",
        "\n",
        " # initialise KMedoids\n",
        " kmedoids = KMedoids(n_clusters=num_clusters, random_state=0,method='pam')\n",
        " #fit the clusters\n",
        " kmedoids.fit(data_clustering3)\n",
        " clusters = kmedoids.labels_\n",
        " print(num_clusters)\n",
        "\n",
        " # silhouette score\n",
        " score = silhouette_score(data_clustering3, clusters, metric='euclidean')\n",
        " print('Silhouetter Score: %.3f' % score)\n",
        " silhouette_avg.append(score)\n",
        "\n",
        " if score > bestsilhoutte:\n",
        "   bestclusters = clusters\n",
        "   bestsilhoutte = score"
      ],
      "metadata": {
        "colab": {
          "base_uri": "https://localhost:8080/"
        },
        "id": "NkUhsz5IZyqq",
        "outputId": "001b26a5-2beb-4b07-a9d4-c338c30dee8f"
      },
      "execution_count": null,
      "outputs": [
        {
          "output_type": "stream",
          "name": "stdout",
          "text": [
            "2\n",
            "Silhouetter Score: 0.371\n",
            "3\n",
            "Silhouetter Score: 0.253\n",
            "4\n",
            "Silhouetter Score: 0.257\n",
            "5\n",
            "Silhouetter Score: 0.222\n",
            "6\n",
            "Silhouetter Score: 0.208\n",
            "7\n",
            "Silhouetter Score: 0.180\n",
            "8\n",
            "Silhouetter Score: 0.182\n"
          ]
        }
      ]
    },
    {
      "cell_type": "code",
      "source": [
        "plt.plot(range_n_clusters,silhouette_avg,'bx-')\n",
        "plt.xlabel('Values of K')\n",
        "plt.ylabel('Silhouette score')\n",
        "plt.title('Silhouette analysis For Optimal k')\n",
        "plt.show()"
      ],
      "metadata": {
        "colab": {
          "base_uri": "https://localhost:8080/",
          "height": 301
        },
        "id": "kUl9KEpdmk1T",
        "outputId": "d1b18c9e-d934-4b27-f9ec-b89f68d9140d"
      },
      "execution_count": null,
      "outputs": [
        {
          "output_type": "display_data",
          "data": {
            "text/plain": [
              "<Figure size 432x288 with 1 Axes>"
            ],
            "image/png": "[encoded data removed]"
          },
          "metadata": {
            "needs_background": "light"
          }
        }
      ]
    },
    {
      "cell_type": "markdown",
      "source": [
        "Selanjutnya dilakukan clustering data dengan metode K-Medoids cluster, cluster yang akan dibuat sebanyak 7 cluster yang meliputi 2 sampai 8 cluster serta akan dicari nilai silhouette masing masing cluster. Didapatkan nilai silhouette terbaik yaitu pada 2 cluster dengan nilai silhouette sebesar 0,371.\n"
      ],
      "metadata": {
        "id": "kWFrp68QF5--"
      }
    },
    {
      "cell_type": "code",
      "metadata": {
        "colab": {
          "base_uri": "https://localhost:8080/",
          "height": 455
        },
        "id": "5jSEt6e5zxft",
        "outputId": "d41e3d96-bf42-4a7f-fdad-eb2d1c2e48c7"
      },
      "source": [
        "data_result_kmedoids = data_clustering3.copy()\n",
        "data_result_kmedoids['cluster'] = bestclusters\n",
        "data_result_kmedoids"
      ],
      "execution_count": null,
      "outputs": [
        {
          "output_type": "execute_result",
          "data": {
            "text/plain": [
              "         Art Galleries  Dance Clubs  Juice Bars  Restaurants  Museums  cluster\n",
              "User ID                                                                       \n",
              "10001             0.93         1.80        2.29         0.62     0.80        0\n",
              "10002             1.02         2.20        2.66         0.64     1.42        0\n",
              "10003             1.22         0.80        0.54         0.53     0.24        1\n",
              "10004             0.45         1.80        0.29         0.57     0.46        1\n",
              "10005             0.51         1.20        1.18         0.57     1.54        0\n",
              "...                ...          ...         ...          ...      ...      ...\n",
              "10976             0.74         1.12        0.30         0.53     0.88        1\n",
              "10977             1.25         0.92        1.12         0.38     0.78        1\n",
              "10978             0.61         1.32        0.67         0.43     1.30        1\n",
              "10979             0.93         0.20        0.13         0.43     0.30        1\n",
              "10980             0.93         0.56        1.13         0.51     1.34        0\n",
              "\n",
              "[980 rows x 6 columns]"
            ],
            "text/html": [
              "\n",
              "  <div id=\"df-394ad85a-42ce-4964-9e6d-267c015d7fca\">\n",
              "    <div class=\"colab-df-container\">\n",
              "      <div>\n",
              "<style scoped>\n",
              "    .dataframe tbody tr th:only-of-type {\n",
              "        vertical-align: middle;\n",
              "    }\n",
              "\n",
              "    .dataframe tbody tr th {\n",
              "        vertical-align: top;\n",
              "    }\n",
              "\n",
              "    .dataframe thead th {\n",
              "        text-align: right;\n",
              "    }\n",
              "</style>\n",
              "<table border=\"1\" class=\"dataframe\">\n",
              "  <thead>\n",
              "    <tr style=\"text-align: right;\">\n",
              "      <th></th>\n",
              "      <th>Art Galleries</th>\n",
              "      <th>Dance Clubs</th>\n",
              "      <th>Juice Bars</th>\n",
              "      <th>Restaurants</th>\n",
              "      <th>Museums</th>\n",
              "      <th>cluster</th>\n",
              "    </tr>\n",
              "    <tr>\n",
              "      <th>User ID</th>\n",
              "      <th></th>\n",
              "      <th></th>\n",
              "      <th></th>\n",
              "      <th></th>\n",
              "      <th></th>\n",
              "      <th></th>\n",
              "    </tr>\n",
              "  </thead>\n",
              "  <tbody>\n",
              "    <tr>\n",
              "      <th>10001</th>\n",
              "      <td>0.93</td>\n",
              "      <td>1.80</td>\n",
              "      <td>2.29</td>\n",
              "      <td>0.62</td>\n",
              "      <td>0.80</td>\n",
              "      <td>0</td>\n",
              "    </tr>\n",
              "    <tr>\n",
              "      <th>10002</th>\n",
              "      <td>1.02</td>\n",
              "      <td>2.20</td>\n",
              "      <td>2.66</td>\n",
              "      <td>0.64</td>\n",
              "      <td>1.42</td>\n",
              "      <td>0</td>\n",
              "    </tr>\n",
              "    <tr>\n",
              "      <th>10003</th>\n",
              "      <td>1.22</td>\n",
              "      <td>0.80</td>\n",
              "      <td>0.54</td>\n",
              "      <td>0.53</td>\n",
              "      <td>0.24</td>\n",
              "      <td>1</td>\n",
              "    </tr>\n",
              "    <tr>\n",
              "      <th>10004</th>\n",
              "      <td>0.45</td>\n",
              "      <td>1.80</td>\n",
              "      <td>0.29</td>\n",
              "      <td>0.57</td>\n",
              "      <td>0.46</td>\n",
              "      <td>1</td>\n",
              "    </tr>\n",
              "    <tr>\n",
              "      <th>10005</th>\n",
              "      <td>0.51</td>\n",
              "      <td>1.20</td>\n",
              "      <td>1.18</td>\n",
              "      <td>0.57</td>\n",
              "      <td>1.54</td>\n",
              "      <td>0</td>\n",
              "    </tr>\n",
              "    <tr>\n",
              "      <th>...</th>\n",
              "      <td>...</td>\n",
              "      <td>...</td>\n",
              "      <td>...</td>\n",
              "      <td>...</td>\n",
              "      <td>...</td>\n",
              "      <td>...</td>\n",
              "    </tr>\n",
              "    <tr>\n",
              "      <th>10976</th>\n",
              "      <td>0.74</td>\n",
              "      <td>1.12</td>\n",
              "      <td>0.30</td>\n",
              "      <td>0.53</td>\n",
              "      <td>0.88</td>\n",
              "      <td>1</td>\n",
              "    </tr>\n",
              "    <tr>\n",
              "      <th>10977</th>\n",
              "      <td>1.25</td>\n",
              "      <td>0.92</td>\n",
              "      <td>1.12</td>\n",
              "      <td>0.38</td>\n",
              "      <td>0.78</td>\n",
              "      <td>1</td>\n",
              "    </tr>\n",
              "    <tr>\n",
              "      <th>10978</th>\n",
              "      <td>0.61</td>\n",
              "      <td>1.32</td>\n",
              "      <td>0.67</td>\n",
              "      <td>0.43</td>\n",
              "      <td>1.30</td>\n",
              "      <td>1</td>\n",
              "    </tr>\n",
              "    <tr>\n",
              "      <th>10979</th>\n",
              "      <td>0.93</td>\n",
              "      <td>0.20</td>\n",
              "      <td>0.13</td>\n",
              "      <td>0.43</td>\n",
              "      <td>0.30</td>\n",
              "      <td>1</td>\n",
              "    </tr>\n",
              "    <tr>\n",
              "      <th>10980</th>\n",
              "      <td>0.93</td>\n",
              "      <td>0.56</td>\n",
              "      <td>1.13</td>\n",
              "      <td>0.51</td>\n",
              "      <td>1.34</td>\n",
              "      <td>0</td>\n",
              "    </tr>\n",
              "  </tbody>\n",
              "</table>\n",
              "<p>980 rows × 6 columns</p>\n",
              "</div>\n",
              "      <button class=\"colab-df-convert\" onclick=\"convertToInteractive('df-394ad85a-42ce-4964-9e6d-267c015d7fca')\"\n",
              "              title=\"Convert this dataframe to an interactive table.\"\n",
              "              style=\"display:none;\">\n",
              "        \n",
              "  <svg xmlns=\"http://www.w3.org/2000/svg\" height=\"24px\"viewBox=\"0 0 24 24\"\n",
              "       width=\"24px\">\n",
              "    <path d=\"M0 0h24v24H0V0z\" fill=\"none\"/>\n",
              "    <path d=\"M18.56 5.44l.94 2.06.94-2.06 2.06-.94-2.06-.94-.94-2.06-.94 2.06-2.06.94zm-11 1L8.5 8.5l.94-2.06 2.06-.94-2.06-.94L8.5 2.5l-.94 2.06-2.06.94zm10 10l.94 2.06.94-2.06 2.06-.94-2.06-.94-.94-2.06-.94 2.06-2.06.94z\"/><path d=\"M17.41 7.96l-1.37-1.37c-.4-.4-.92-.59-1.43-.59-.52 0-1.04.2-1.43.59L10.3 9.45l-7.72 7.72c-.78.78-.78 2.05 0 2.83L4 21.41c.39.39.9.59 1.41.59.51 0 1.02-.2 1.41-.59l7.78-7.78 2.81-2.81c.8-.78.8-2.07 0-2.86zM5.41 20L4 18.59l7.72-7.72 1.47 1.35L5.41 20z\"/>\n",
              "  </svg>\n",
              "      </button>\n",
              "      \n",
              "  <style>\n",
              "    .colab-df-container {\n",
              "      display:flex;\n",
              "      flex-wrap:wrap;\n",
              "      gap: 12px;\n",
              "    }\n",
              "\n",
              "    .colab-df-convert {\n",
              "      background-color: #E8F0FE;\n",
              "      border: none;\n",
              "      border-radius: 50%;\n",
              "      cursor: pointer;\n",
              "      display: none;\n",
              "      fill: #1967D2;\n",
              "      height: 32px;\n",
              "      padding: 0 0 0 0;\n",
              "      width: 32px;\n",
              "    }\n",
              "\n",
              "    .colab-df-convert:hover {\n",
              "      background-color: #E2EBFA;\n",
              "      box-shadow: 0px 1px 2px rgba(60, 64, 67, 0.3), 0px 1px 3px 1px rgba(60, 64, 67, 0.15);\n",
              "      fill: #174EA6;\n",
              "    }\n",
              "\n",
              "    [theme=dark] .colab-df-convert {\n",
              "      background-color: #3B4455;\n",
              "      fill: #D2E3FC;\n",
              "    }\n",
              "\n",
              "    [theme=dark] .colab-df-convert:hover {\n",
              "      background-color: #434B5C;\n",
              "      box-shadow: 0px 1px 3px 1px rgba(0, 0, 0, 0.15);\n",
              "      filter: drop-shadow(0px 1px 2px rgba(0, 0, 0, 0.3));\n",
              "      fill: #FFFFFF;\n",
              "    }\n",
              "  </style>\n",
              "\n",
              "      <script>\n",
              "        const buttonEl =\n",
              "          document.querySelector('#df-394ad85a-42ce-4964-9e6d-267c015d7fca button.colab-df-convert');\n",
              "        buttonEl.style.display =\n",
              "          google.colab.kernel.accessAllowed ? 'block' : 'none';\n",
              "\n",
              "        async function convertToInteractive(key) {\n",
              "          const element = document.querySelector('#df-394ad85a-42ce-4964-9e6d-267c015d7fca');\n",
              "          const dataTable =\n",
              "            await google.colab.kernel.invokeFunction('convertToInteractive',\n",
              "                                                     [key], {});\n",
              "          if (!dataTable) return;\n",
              "\n",
              "          const docLinkHtml = 'Like what you see? Visit the ' +\n",
              "            '<a target=\"_blank\" href=https://colab.research.google.com/notebooks/data_table.ipynb>data table notebook</a>'\n",
              "            + ' to learn more about interactive tables.';\n",
              "          element.innerHTML = '';\n",
              "          dataTable['output_type'] = 'display_data';\n",
              "          await google.colab.output.renderOutput(dataTable, element);\n",
              "          const docLink = document.createElement('div');\n",
              "          docLink.innerHTML = docLinkHtml;\n",
              "          element.appendChild(docLink);\n",
              "        }\n",
              "      </script>\n",
              "    </div>\n",
              "  </div>\n",
              "  "
            ]
          },
          "metadata": {},
          "execution_count": 142
        }
      ]
    },
    {
      "cell_type": "code",
      "metadata": {
        "colab": {
          "base_uri": "https://localhost:8080/"
        },
        "id": "GbXts7A90po5",
        "outputId": "c9b463b9-c7ed-49ce-a763-16ffd0e1a294"
      },
      "source": [
        "data_result_kmedoids['cluster'].value_counts()"
      ],
      "execution_count": null,
      "outputs": [
        {
          "output_type": "execute_result",
          "data": {
            "text/plain": [
              "1    596\n",
              "0    384\n",
              "Name: cluster, dtype: int64"
            ]
          },
          "metadata": {},
          "execution_count": 144
        }
      ]
    },
    {
      "cell_type": "code",
      "metadata": {
        "colab": {
          "base_uri": "https://localhost:8080/",
          "height": 373
        },
        "id": "1YM89fsMyasp",
        "outputId": "c657b2ed-a4c1-4ff2-98a2-b96456076ace"
      },
      "source": [
        "plt.figure(figsize=(8,5))\n",
        "sns.boxplot(x='cluster',y='Art Galleries',data=data_result_kmedoids, palette='rainbow')\n",
        "plt.title(\"Art Galleries each Cluster\")"
      ],
      "execution_count": null,
      "outputs": [
        {
          "output_type": "execute_result",
          "data": {
            "text/plain": [
              "Text(0.5, 1.0, 'Art Galleries each Cluster')"
            ]
          },
          "metadata": {},
          "execution_count": 145
        },
        {
          "output_type": "display_data",
          "data": {
            "text/plain": [
              "<Figure size 576x360 with 1 Axes>"
            ],
            "image/png": "[encoded data removed]"
          },
          "metadata": {
            "needs_background": "light"
          }
        }
      ]
    },
    {
      "cell_type": "markdown",
      "source": [
        "Selanjutnya akan dibuat boxplot pada masing masing kategori untuk melihat adanya perbedaan  diantara kedua cluster. Berdasarkan output yang didapatkan pada kategori Art Galleries untuk kedua cluster relatif sama serta pada masing masing cluster memiliki data outlier.\n"
      ],
      "metadata": {
        "id": "CxL4SoQcGEUt"
      }
    },
    {
      "cell_type": "code",
      "metadata": {
        "colab": {
          "base_uri": "https://localhost:8080/",
          "height": 373
        },
        "id": "Y37zPKvpwCxC",
        "outputId": "cb0d0235-e62c-42ce-fa7e-ee5afe059b06"
      },
      "source": [
        "plt.figure(figsize=(8,5))\n",
        "sns.boxplot(x='cluster',y='Dance Clubs',data=data_result_kmedoids, palette='rainbow')\n",
        "plt.title(\"Dance Clubs each Cluster\")"
      ],
      "execution_count": null,
      "outputs": [
        {
          "output_type": "execute_result",
          "data": {
            "text/plain": [
              "Text(0.5, 1.0, 'Dance Clubs each Cluster')"
            ]
          },
          "metadata": {},
          "execution_count": 146
        },
        {
          "output_type": "display_data",
          "data": {
            "text/plain": [
              "<Figure size 576x360 with 1 Axes>"
            ],
            "image/png": "[encoded data removed]"
          },
          "metadata": {
            "needs_background": "light"
          }
        }
      ]
    },
    {
      "cell_type": "markdown",
      "source": [
        "Berdasarkan output yang didapatkan pada kategori Dance Clubs untuk kedua cluster relatif sama,namun pada cluster 0 memiliki lebar boxplot yang lebih besar dari cluster 1 serta pada masing-masing cluster memiliki data.outlier.\n"
      ],
      "metadata": {
        "id": "iq3WJw1_GJN6"
      }
    },
    {
      "cell_type": "code",
      "metadata": {
        "id": "RbVEFDy14YGB",
        "colab": {
          "base_uri": "https://localhost:8080/",
          "height": 373
        },
        "outputId": "ce31250d-c25f-498b-c26e-c26307084234"
      },
      "source": [
        "plt.figure(figsize=(8,5))\n",
        "sns.boxplot(x='cluster',y='Juice Bars',data=data_result_kmedoids, palette='rainbow')\n",
        "plt.title(\"Juice Bars each Cluster\")"
      ],
      "execution_count": null,
      "outputs": [
        {
          "output_type": "execute_result",
          "data": {
            "text/plain": [
              "Text(0.5, 1.0, 'Juice Bars each Cluster')"
            ]
          },
          "metadata": {},
          "execution_count": 147
        },
        {
          "output_type": "display_data",
          "data": {
            "text/plain": [
              "<Figure size 576x360 with 1 Axes>"
            ],
            "image/png": "[encoded data removed]"
          },
          "metadata": {
            "needs_background": "light"
          }
        }
      ]
    },
    {
      "cell_type": "markdown",
      "source": [
        "Berdasarkan output yang didapatkan pada kategori Juice Bars pada cluster 0 memiliki nilai Pusat, Q1, dan Q3 yang lebih tinggi dari cluster 1 serta terdapat 1 data outlier pada data cluster 0. Selain itu mean data pada cluster 1 tampak lebih dekat dengan Q1 yang menandakan bahwa distribusi tidak normal.\n"
      ],
      "metadata": {
        "id": "LAybrrKhGREr"
      }
    },
    {
      "cell_type": "code",
      "metadata": {
        "id": "7TLIHk_L7kKV",
        "colab": {
          "base_uri": "https://localhost:8080/",
          "height": 373
        },
        "outputId": "bccce6c9-d8b4-494e-ed18-38abf23008ad"
      },
      "source": [
        "plt.figure(figsize=(8,5))\n",
        "sns.boxplot(x='cluster',y='Restaurants',data=data_result_kmedoids, palette='rainbow')\n",
        "plt.title(\"Restaurants each Cluster\")"
      ],
      "execution_count": null,
      "outputs": [
        {
          "output_type": "execute_result",
          "data": {
            "text/plain": [
              "Text(0.5, 1.0, 'Restaurants each Cluster')"
            ]
          },
          "metadata": {},
          "execution_count": 148
        },
        {
          "output_type": "display_data",
          "data": {
            "text/plain": [
              "<Figure size 576x360 with 1 Axes>"
            ],
            "image/png": "[encoded data removed]"
          },
          "metadata": {
            "needs_background": "light"
          }
        }
      ]
    },
    {
      "cell_type": "markdown",
      "source": [
        "Berdasarkan output yang didapatkan pada kategori Restaurant untuk kedua cluster relatif sama serta pada masing masing cluster memiliki data outlier. Nilai outlier dari data cluster 1 cenderung lebih banyak daripada outlier pada cluster 0.\n"
      ],
      "metadata": {
        "id": "MkAttAHOGY6t"
      }
    },
    {
      "cell_type": "code",
      "metadata": {
        "id": "KwrXNKTi2qMl",
        "colab": {
          "base_uri": "https://localhost:8080/",
          "height": 373
        },
        "outputId": "96c3cb3e-6ee4-485e-8e67-29bd3401e772"
      },
      "source": [
        "plt.figure(figsize=(8,5))\n",
        "sns.boxplot(x='cluster',y='Museums',data=data_result_kmedoids, palette='rainbow')\n",
        "plt.title(\"Museums each Cluster\")"
      ],
      "execution_count": null,
      "outputs": [
        {
          "output_type": "execute_result",
          "data": {
            "text/plain": [
              "Text(0.5, 1.0, 'Museums each Cluster')"
            ]
          },
          "metadata": {},
          "execution_count": 149
        },
        {
          "output_type": "display_data",
          "data": {
            "text/plain": [
              "<Figure size 576x360 with 1 Axes>"
            ],
            "image/png": "[encoded data removed]"
          },
          "metadata": {
            "needs_background": "light"
          }
        }
      ]
    },
    {
      "cell_type": "markdown",
      "source": [
        "Berdasarkan output yang didapatkan pada kategori Museums pada cluster 0 memiliki nilai Pusat, Q1, dan Q3 yang lebih tinggi dari cluster 1 serta terdapat beberapa data outlier pada data cluster 0 maupun cluster 1."
      ],
      "metadata": {
        "id": "Ze_G_HmXGgEO"
      }
    },
    {
      "cell_type": "markdown",
      "source": [
        "# Kesimpulan"
      ],
      "metadata": {
        "id": "tY5w3mi4IjZQ"
      }
    },
    {
      "cell_type": "markdown",
      "source": [
        "Berdasarkan analisis clustering yang telah dilakukan didapatkan pada clustering K-Means nilai silhouette yang terbaik adalah 2 cluster dengan nilai 0,374, pada clustering K-Medoids didapatkan nilai silhouette terbaik yaitu pada 2 cluster dengan nilai silhouette sebesar 0,371. Oleh karena itu berdasarkan nilai silhouette yang didapatkan pada kedua metode, metode clustering yang paling baik digunakan untuk dataset ini adalah metode K-Means Cluster karena memiliki nilai silhouette lebih tinggi dari metode K-Medoids dengan nilai silhouette sebesar 0,374 serta akan dibentuk 2 cluster dengan cluster 1 sebanyak 609 data dan cluster 0 sebanyak 371 data.\n",
        "\n",
        "Berdasarkan hasil analisis telah didapatkan metode clustering terbaik yaitu metode K-Means cluster. Saran yang dapat kami berikan yaitu karena user telah di cluster sesuai dengan rating yang telah diberikan pada beberapa destinasi, hasil clustering ini dapat digunakan sebagai rekomendasi untuk menentukan destinasi yang cocok dikunjungi oleh masing masing user\n",
        "sehingga user dapat mempersiapkan perjalanan agar lebih efektif.\n"
      ],
      "metadata": {
        "id": "gD0yvn7GIqBj"
      }
    }
  ]
}
